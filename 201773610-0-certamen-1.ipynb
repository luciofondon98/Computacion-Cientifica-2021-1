{
 "cells": [
  {
   "cell_type": "markdown",
   "metadata": {},
   "source": [
    "<center>\n",
    "    <h1> INF285 - Computación Científica </h1>\n",
    "    <h1> Certamen 1 </h1>\n",
    "    <h2> Nombre: Lucio Fondón Rebolledo </h2>\n",
    "    <h2> rol: 201773610-0 </h2>\n",
    "\n",
    "</center>\n",
    "\n",
    "<p>\n",
    "\n",
    "</p>"
   ]
  },
  {
   "cell_type": "markdown",
   "metadata": {},
   "source": [
    "# Pregunta 1"
   ]
  },
  {
   "cell_type": "markdown",
   "metadata": {},
   "source": [
    "1) Tenemos $Y = XA_1 + B_1 $ y $Y = A_2X + B_2 $. Si resolvemos el sistema, nos queda:"
   ]
  },
  {
   "cell_type": "markdown",
   "metadata": {},
   "source": [
    "\\begin{align*}\n",
    "XA_1 - A_2X = B_2 - B_1\n",
    "\\end{align*}"
   ]
  },
  {
   "cell_type": "markdown",
   "metadata": {},
   "source": [
    "\\begin{align*}\n",
    "\\begin{bmatrix}\n",
    "x_1 & x_3\\\\\n",
    "x_2 & x_4\n",
    "\\end{bmatrix} \\cdot\n",
    "\\begin{bmatrix}\n",
    "a_{11} & a_{13} \\\\\n",
    "a_{12} & a_{14} \\\\\n",
    "\\end{bmatrix} - \n",
    "\\begin{bmatrix}\n",
    "a_{21} & a_{23} \\\\\n",
    "a_{22} & a_{24} \\\\\n",
    "\\end{bmatrix} \\cdot\n",
    "\\begin{bmatrix}\n",
    "x_1 & x_3\\\\\n",
    "x_2 & x_4\n",
    "\\end{bmatrix} = \n",
    "\\begin{bmatrix}\n",
    "b_{21} & b_{23}\\\\\n",
    "b_{22} & b_{24}\\\\\n",
    "\\end{bmatrix} -\n",
    "\\begin{bmatrix}\n",
    "b_{11} & b_{13}\\\\\n",
    "b_{12} & b_{14}\\\\\n",
    "\\end{bmatrix}\n",
    "\\end{align*}"
   ]
  },
  {
   "cell_type": "markdown",
   "metadata": {},
   "source": [
    "El cual queda finalmente:"
   ]
  },
  {
   "cell_type": "markdown",
   "metadata": {},
   "source": [
    "Ecuacion 1\n",
    "\\begin{align*}\n",
    "\\begin{bmatrix}\n",
    "x_1(a_{11} - a_{21}) + x_3a_{12} -x_2a_{23} & x_3(a_{14} - a_{21}) + x_1a_{13} - x_4a_{23}\\\\\n",
    "x_2(a_{11} - a_{24}) + x_4a_{12} -x_1a_{22} & x_4(a_{14} - a_{24}) + x_2a_{13} - x_3a_{22}\n",
    "\\end{bmatrix} = \n",
    "\\begin{bmatrix}\n",
    "b_{21} - b_{11} & b_{23}-b_{13}\\\\\n",
    "b_{22} - b_{12} & b_{24} - b_{14}\\\\\n",
    "\\end{bmatrix}\n",
    "\\end{align*} "
   ]
  },
  {
   "cell_type": "markdown",
   "metadata": {},
   "source": [
    "Ahora, podemos hacer $Cx = b$: "
   ]
  },
  {
   "cell_type": "markdown",
   "metadata": {},
   "source": [
    "\\begin{align*}\n",
    "\\begin{bmatrix}\n",
    "c_{11} & c_{12} & c_{13} & c_{14}\\\\\n",
    "c_{21} & c_{22} & c_{23} & c_{24}\\\\\n",
    "c_{31} & c_{32} & c_{33} & c_{34}\\\\\n",
    "c_{41} & c_{42} & c_{43} & c_{44}\\\\\n",
    "\\end{bmatrix} \\cdot \\begin{bmatrix}\n",
    "x_1\\\\\n",
    "x_3\\\\\n",
    "x_2\\\\\n",
    "x_4\n",
    "\\end{bmatrix}= \\begin{bmatrix}\n",
    "b_{21} - b_{11} & b_{23}-b_{13}\\\\\n",
    "b_{22} - b_{12} & b_{24} - b_{14}\\\\\n",
    "\\end{bmatrix}\n",
    "\\end{align*}"
   ]
  },
  {
   "cell_type": "markdown",
   "metadata": {},
   "source": [
    "Y podemos obtener los valores de $c_{ij}$ con lo calculado anteriormente, haciendo $A_1 = A_2$, quedando:"
   ]
  },
  {
   "cell_type": "markdown",
   "metadata": {},
   "source": [
    "\\begin{align*}\n",
    "\\begin{bmatrix}\n",
    "0 & a_{12} & -a_{13} & 0\\\\\n",
    "-a_{11} & 0 & a_{11}-a_{14} & -a_{12}\\\\\n",
    "a_{13} & a_{14}-a_{11} & 0 & -a_{13}\\\\\n",
    "0 & -a_{12} & a_{13} & 0\\\\\n",
    "\\end{bmatrix} \\cdot \\begin{bmatrix}\n",
    "x_1\\\\\n",
    "x_3\\\\\n",
    "x_2\\\\\n",
    "x_4\n",
    "\\end{bmatrix}= \\begin{bmatrix}\n",
    "b_{21} - b_{11} & b_{23}-b_{13}\\\\\n",
    "b_{22} - b_{12} & b_{24} - b_{14}\\\\\n",
    "\\end{bmatrix}\n",
    "\\end{align*}"
   ]
  },
  {
   "cell_type": "markdown",
   "metadata": {},
   "source": [
    "Ahora, notemos que la fila 1 y la fila 4 son linealmente dependientes, debido a que $F1  = -F4$, podemos decir que $det(C) = 0$ (no es invertible), ya que habrán más incógnitas que ecuaciones. Entonces, no existirá una solución única en el caso que $A_1 = A_2$, es decir existirán infinitas soluciones"
   ]
  },
  {
   "cell_type": "markdown",
   "metadata": {},
   "source": [
    "2) Usando la ecuación 1, pero dejando todos los valores de $A_{1k}$ en cero, queda:"
   ]
  },
  {
   "cell_type": "markdown",
   "metadata": {},
   "source": [
    "Ecuacion 2\n",
    "\\begin{align*}\n",
    "\\begin{bmatrix}\n",
    "x_1(- a_{21})  -x_2a_{23} & x_3(- a_{21}) - x_4a_{23}\\\\\n",
    "x_2(- a_{24})  -x_1a_{22} & x_4(- a_{24}) - x_3a_{22}\n",
    "\\end{bmatrix} = \n",
    "\\begin{bmatrix}\n",
    "b_{21} - b_{11} & b_{23}-b_{13}\\\\\n",
    "b_{22} - b_{12} & b_{24} - b_{14}\\\\\n",
    "\\end{bmatrix}\n",
    "\\end{align*} "
   ]
  },
  {
   "cell_type": "markdown",
   "metadata": {},
   "source": [
    "Entonces, expresándolo en la foma $Cx=b$:"
   ]
  },
  {
   "cell_type": "markdown",
   "metadata": {},
   "source": [
    "\\begin{align*}\n",
    "\\begin{bmatrix}\n",
    "-a_{21} & 0 & -a_{23} & 0\\\\\n",
    "-a_{22} & 0 & -a_{24} & 0\\\\\n",
    "0 & a_{21} & 0 & -a_{23}\\\\\n",
    "0 & -a_{22} & 0 & -a_{24}\\\\\n",
    "\\end{bmatrix} \\cdot \\begin{bmatrix}\n",
    "x_1\\\\\n",
    "x_3\\\\\n",
    "x_2\\\\\n",
    "x_4\n",
    "\\end{bmatrix}= \\begin{bmatrix}\n",
    "b_{21} - b_{11} & b_{23}-b_{13}\\\\\n",
    "b_{22} - b_{12} & b_{24} - b_{14}\\\\\n",
    "\\end{bmatrix}\n",
    "\\end{align*}"
   ]
  },
  {
   "cell_type": "markdown",
   "metadata": {},
   "source": [
    "La matriz anterior si posee inversa, por lo tanto si existe solución única para el problema modificado (osea la matriz no es singular) La matriz inversa viene dada por:"
   ]
  },
  {
   "cell_type": "markdown",
   "metadata": {},
   "source": [
    "\\begin{align*}\n",
    "=\\begin{pmatrix}-\\frac{a_{24}}{a_{21}a_{24}-a_{23}a_{22}}&\\frac{a_{23}}{-a_{23}a_{22}+a_{21}a_{24}}&0&0\\\\ 0&0&-\\frac{a_{24}}{-a_{21}a_{24}-a_{23}a_{22}}&\\frac{a_{23}}{-a_{23}a_{22}-a_{21}a_{24}}\\\\ \\frac{a_{22}}{-a_{23}a_{22}+a_{21}a_{24}}&-\\frac{a_{21}}{-a_{23}a_{22}+a_{21}a_{24}}&0&0\\\\ 0&0&\\frac{a_{22}}{-a_{23}a_{22}-a_{21}a_{24}}&\\frac{a_{21}}{-a_{23}a_{22}-a_{21}a_{24}}\\end{pmatrix}\n",
    "\\end{align*}"
   ]
  },
  {
   "cell_type": "markdown",
   "metadata": {},
   "source": [
    "3) Usando $Cx = b$ generalizada:\n",
    "\\begin{align*}\n",
    "\\begin{bmatrix}\n",
    "c_{11} & c_{12} & c_{13} & c_{14}\\\\\n",
    "c_{21} & c_{22} & c_{23} & c_{24}\\\\\n",
    "c_{31} & c_{32} & c_{33} & c_{34}\\\\\n",
    "c_{41} & c_{42} & c_{43} & c_{44}\\\\\n",
    "\\end{bmatrix} \\cdot \\begin{bmatrix}\n",
    "x_1\\\\\n",
    "x_3\\\\\n",
    "x_2\\\\\n",
    "x_4\n",
    "\\end{bmatrix}= \\begin{bmatrix}\n",
    "b_{21} - b_{11} & b_{23}-b_{13}\\\\\n",
    "b_{22} - b_{12} & b_{24} - b_{14}\\\\\n",
    "\\end{bmatrix}\n",
    "\\end{align*}\n",
    "\n",
    "Junto con la ecuación 1\n",
    "\\begin{align*}\n",
    "\\begin{bmatrix}\n",
    "x_1(a_{11} - a_{21}) + x_3a_{12} -x_2a_{23} & x_3(a_{14} - a_{21}) + x_1a_{13} - x_4a_{23}\\\\\n",
    "x_2(a_{11} - a_{24}) + x_4a_{12} -x_1a_{22} & x_4(a_{14} - a_{24}) + x_2a_{13} - x_3a_{22}\n",
    "\\end{bmatrix} = \n",
    "\\begin{bmatrix}\n",
    "b_{21} - b_{11} & b_{23}-b_{13}\\\\\n",
    "b_{22} - b_{12} & b_{24} - b_{14}\\\\\n",
    "\\end{bmatrix}\n",
    "\\end{align*} \n",
    "\n",
    "Reemplazamos los valores de $A_1$ y $A_2$ dados en el enunciado:"
   ]
  },
  {
   "cell_type": "markdown",
   "metadata": {},
   "source": [
    "$A_1 =\n",
    "\\begin{bmatrix}\n",
    "0.0487248808 & 0.2891096598\\\\\n",
    "0.7209663468 & 0.0216162499\n",
    "\\end{bmatrix}$\n",
    "\n",
    "$A_2 =\n",
    "\\begin{bmatrix}\n",
    "0.0487248808 & 0.0507732567\\\\\n",
    "0.302271894 & 0.6639102946\n",
    "\\end{bmatrix}$"
   ]
  },
  {
   "cell_type": "markdown",
   "metadata": {},
   "source": [
    "Ahora, nuestro vector $Cx = b$ queda:"
   ]
  },
  {
   "cell_type": "markdown",
   "metadata": {},
   "source": [
    "\\begin{align*}\n",
    "\\begin{bmatrix}\n",
    "a_{11}-a_{21} & a_{12} & -a_{23} & 0\\\\\n",
    "-a_{22} & 0 & a_{11}-a_{24} & a_{12}\\\\\n",
    "a_{13} & a_{14}-a_{21} & 0 & a_{23}\\\\\n",
    "0 & -a_{22} & a_{13} & a_{14}-a_{24}\\\\\n",
    "\\end{bmatrix} \\cdot \\begin{bmatrix}\n",
    "x_1\\\\\n",
    "x_3\\\\\n",
    "x_2\\\\\n",
    "x_4\n",
    "\\end{bmatrix}= \\begin{bmatrix}\n",
    "b_{21} - b_{11} & b_{23}-b_{13}\\\\\n",
    "b_{22} - b_{12} & b_{24} - b_{14}\\\\\n",
    "\\end{bmatrix}\n",
    "\\end{align*}"
   ]
  },
  {
   "cell_type": "markdown",
   "metadata": {},
   "source": [
    "Si notamos, podemos ver que nuestro pivote $a_{11} - a_{21} = 0$, dado que esos coeficientes son iguales en $A_1$ y $A_2$. Por lo tanto, no tendremos nuestro pivote para poder realizar el proceso de $A=LU$, por lo que no es posible realizar la factorización $LU$ en este caso. La única forma de poder factorizar con $LU$ debiésemos tener que operar con $PALU$ para poder intercambiar filas para que el pivote no sea 0."
   ]
  },
  {
   "cell_type": "markdown",
   "metadata": {},
   "source": [
    "4) $c_{3,3}$ = 0 $c_{4,4} = -0.64229$"
   ]
  },
  {
   "cell_type": "markdown",
   "metadata": {},
   "source": [
    "5) "
   ]
  },
  {
   "cell_type": "code",
   "execution_count": 165,
   "metadata": {},
   "outputs": [],
   "source": [
    "import numpy as np\n",
    "\n",
    "#------------- TODAS LAS FUNCIONES DE ACÁ SON SACADAS DE LOS NOTEBOOKS DEL PROFE----------#\n",
    "\n",
    "def row_perm(A, i, j):\n",
    "    tmp = np.copy(A[i])\n",
    "    A[i] = A[j]\n",
    "    A[j] = tmp\n",
    "\n",
    "def palu_decomp(A, show=False):\n",
    "    N,_ = A.shape\n",
    "    P = np.identity(N)\n",
    "    L = np.zeros((N,N))\n",
    "    U = np.copy(A)\n",
    "    if show:\n",
    "        print('Initial matrices')\n",
    "        print('P = '); print(np.array_str(P, precision=2, suppress_small=True))\n",
    "        print('L = '); print(np.array_str(L, precision=2, suppress_small=True))\n",
    "        print('U = '); print(np.array_str(U, precision=2, suppress_small=True))\n",
    "        print('----------------------------------------')\n",
    "    #iterating through columns\n",
    "    for j in range(N-1):\n",
    "        #determine the new pivot\n",
    "        p_index = np.argmax(np.abs(U[j:,j]))\n",
    "        if p_index != 0:\n",
    "            row_perm(P, j, j+p_index)\n",
    "            row_perm(U, j, j+p_index)\n",
    "            row_perm(L, j, j+p_index)\n",
    "            if show:\n",
    "                print('A permutation has been made')\n",
    "                print('P = '); print(np.array_str(P, precision=2, suppress_small=True))\n",
    "                print('L = '); print(np.array_str(L, precision=2, suppress_small=True))\n",
    "                print('U = '); print(np.array_str(U, precision=2, suppress_small=True))\n",
    "                print('----------------------------------------')\n",
    "        #iterating through rows\n",
    "        for i in range(j+1,N):\n",
    "            L[i,j] = U[i,j]/U[j,j]\n",
    "            U[i] -= L[i,j]*U[j]\n",
    "            if show:\n",
    "                print('P = '); print(np.array_str(P, precision=2, suppress_small=True))\n",
    "                print('L = '); print(np.array_str(L, precision=2, suppress_small=True))\n",
    "                print('U = '); print(np.array_str(U, precision=2, suppress_small=True))\n",
    "                print('----------------------------------------')\n",
    "    np.fill_diagonal(L,1)\n",
    "    return P,L,U\n",
    "\n",
    "\n",
    "def solve_triangular(A, b, upper=True):\n",
    "    n = b.shape[0]\n",
    "    x = np.zeros_like(b)\n",
    "    if upper==True:\n",
    "        #perform back-substitution\n",
    "        x[-1] = (1./A[-1,-1]) * b[-1]\n",
    "        for i in range(n-2, -1, -1):\n",
    "            x[i] = (1./A[i,i]) * (b[i] - np.sum(A[i,i+1:] * x[i+1:]))\n",
    "    else:\n",
    "        #perform forward-substitution\n",
    "        x[0] = (1./A[0,0]) * b[0]\n",
    "        for i in range(1,n):\n",
    "            x[i] = (1./A[i,i]) * (b[i] - np.sum(A[i,:i] * x[:i]))\n",
    "    return x\n",
    "\n",
    "def solve_lu(A, b, show=False):\n",
    "    L,U = lu_decomp(A, show)\n",
    "    # L.c = b with c = U.x\n",
    "    c = solve_triangular(L, b, upper=False)\n",
    "    x = solve_triangular(U, c)\n",
    "    return x\n",
    "\n",
    "def solve_palu(A, b, show=False):\n",
    "    P,L,U = palu_decomp(A, show)\n",
    "    #A.x = b -> P.A.x = P.b = b'\n",
    "    b = np.dot(P,b)\n",
    "    # L.c = b' with c = U.x\n",
    "    c = solve_triangular(L, b, upper=False)\n",
    "    x = solve_triangular(U, c)\n",
    "    return x\n",
    "\n",
    "A1 = np.array([[0.0487248808,0.2891096598],[0.7209663468,0.0216162499]])\n",
    "A2 = np.array([[0.0487248808,0.0507732567],[0.302271894,0.6639102946]])\n",
    "B1 = np.array([[0.3081143932,0.5835912762],[0.0695709546,0.867404484]])\n",
    "B2 = np.array([[0.1332405193,0.1781246616],[0.4959295498,0.8636996446]])\n",
    "\n",
    "\n",
    "def solverInterseccionMatricial(A_1, A_2, B_1, B_2):\n",
    "    matrizC = np.array([[A1[0][0] - A2[0][0], A1[1][0], -A2[0][1], 0],\n",
    "                    [-A2[1][0],0, A1[0][0] - A2[1][1], A1[1][0]],\n",
    "                    [A1[0][1], A1[1][1] - A2[0][0], 0, A2[0][1]],\n",
    "                    [0, -A2[1][0], A1[0][1], A1[1][1]-A2[1][1]]  \n",
    "                   ])\n",
    "    \n",
    "    vectorB = np.array([B2[0][0] - B1[0][0],\n",
    "                    B2[0][1] - B1[0][1],\n",
    "                    B2[1][0] - B1[1][0],\n",
    "                    B2[1][1] - B1[1][1]\n",
    "                   ])\n",
    "    X = np.reshape(solve_palu(matrizC, vectorB),(2,2))\n",
    "    return X"
   ]
  },
  {
   "cell_type": "markdown",
   "metadata": {},
   "source": [
    "# Pregunta 2"
   ]
  },
  {
   "cell_type": "markdown",
   "metadata": {},
   "source": [
    "1) Teniendo en cuenta que $f_1(x) = log (x - \\sqrt{x^2-1})$, procedemos a evalúar en los $x_i$."
   ]
  },
  {
   "cell_type": "code",
   "execution_count": 156,
   "metadata": {
    "scrolled": true
   },
   "outputs": [
    {
     "name": "stdout",
     "output_type": "stream",
     "text": [
      "f1(x1) = 0.0\n",
      "f1(x2) = -12.000000137072186\n",
      "f1(x3) = -inf\n",
      "f1(x4) = -inf\n",
      "f1(x5) = -inf\n"
     ]
    },
    {
     "name": "stderr",
     "output_type": "stream",
     "text": [
      "c:\\users\\lucio\\appdata\\local\\programs\\python\\python37\\lib\\site-packages\\ipykernel_launcher.py:1: RuntimeWarning: divide by zero encountered in log\n",
      "  \"\"\"Entry point for launching an IPython kernel.\n"
     ]
    }
   ],
   "source": [
    "f1 = lambda x: np.log(x - np.sqrt(x**2 - 1))\n",
    "\n",
    "x1=1.00000000000000000000000000000\n",
    "x2=81377.3957125740665806667073286\n",
    "x3=1.32445610649217361470884567491e10\n",
    "x4=2.15561577355759761355671114643e15\n",
    "x5=3.50836795604881586932735799943e20\n",
    "\n",
    "x_i = [x1,x2,x3,x4,x5]\n",
    "i = 1\n",
    "for x in x_i:\n",
    "    print(\"f1(x\" + str(i) + \") = \" + str(f(x)))\n",
    "    i += 1"
   ]
  },
  {
   "cell_type": "markdown",
   "metadata": {},
   "source": [
    "2) Como se muestra en la pregunta anterior, en $x_3 = 1.32445610649217361470884567491\\cdot 10 ^ {10}$ pasa el primer problema número catastrófico, al entregar $f_1(x_3) = -\\infty $"
   ]
  },
  {
   "cell_type": "markdown",
   "metadata": {},
   "source": [
    "3) Proponemos una nueva función $f_2(x)$, multiplicando por un 1 conveniente al argumento de nuestra $f_1(x)$ anterior, es decir, lo que está dentro de la función $log$, entonces:\n"
   ]
  },
  {
   "cell_type": "markdown",
   "metadata": {},
   "source": [
    "\\begin{equation}\n",
    "f_2(x) = log (x - \\sqrt{x^2-1}   \\cdot \\frac{x + \\sqrt{x^2-1}}{x + \\sqrt{x^2-1}} ) \\\\\n",
    "f_2(x) = log (\\frac{1}{x + \\sqrt{x^2-1}}) \\\\\n",
    "f_2(x) = log(1) - log(x + \\sqrt{x^2-1})\\\\\n",
    "f_2(x) = - log(x + \\sqrt{x^2-1})\\\\\n",
    "\\end{equation}\n",
    "\n",
    "Por lo que obtenemos:\n",
    "\\begin{equation}\n",
    "f_2(x) = - log(x + \\sqrt{(x+1)}\\sqrt{(x-1)})\\\\\n",
    "\\end{equation}\n",
    "\n",
    "Se factoriza de esta forma para eliminar la pérdida de significancia."
   ]
  },
  {
   "cell_type": "markdown",
   "metadata": {},
   "source": [
    "4)"
   ]
  },
  {
   "cell_type": "code",
   "execution_count": 159,
   "metadata": {},
   "outputs": [
    {
     "name": "stdout",
     "output_type": "stream",
     "text": [
      "f(x_n(n = 1)) = -2.9932228461263786\n",
      "f(x_n(n = 2)) = -5.29829236561098\n",
      "f(x_n(n = 3)) = -7.600902209454717\n",
      "f(x_n(n = 4)) = -9.903487541418464\n",
      "f(x_n(n = 5)) = -12.206073762186564\n",
      "f(x_n(n = 6)) = -14.50865012405984\n",
      "f(x_n(n = 7)) = -16.805431370234086\n",
      "El menor valor de n posible tal que el resultado obtenido sea erróneo es 8\n"
     ]
    },
    {
     "name": "stderr",
     "output_type": "stream",
     "text": [
      "c:\\users\\lucio\\appdata\\local\\programs\\python\\python37\\lib\\site-packages\\ipykernel_launcher.py:1: RuntimeWarning: divide by zero encountered in log\n",
      "  \"\"\"Entry point for launching an IPython kernel.\n"
     ]
    }
   ],
   "source": [
    "x_n = lambda n: 10.0**n\n",
    "n = 1\n",
    "\n",
    "while f1(x_n(n)) != np.NINF:\n",
    "    print(\"f(x_n(n = \" + str(n) + \")) = \" + str(f1(x_n(n))))\n",
    "    n += 1\n",
    "\n",
    "print(\"El menor valor de n posible tal que el resultado obtenido sea erróneo es \" + str(n))"
   ]
  },
  {
   "cell_type": "markdown",
   "metadata": {},
   "source": [
    "5)"
   ]
  },
  {
   "cell_type": "code",
   "execution_count": 158,
   "metadata": {},
   "outputs": [
    {
     "name": "stdout",
     "output_type": "stream",
     "text": [
      "f(x_n(n = 1)) = -2.993222846126381\n",
      "f(x_n(n = 2)) = -5.298292365610485\n",
      "f(x_n(n = 3)) = -7.600902209541989\n",
      "f(x_n(n = 4)) = -9.903487550036129\n",
      "f(x_n(n = 5)) = -12.206072645505174\n",
      "f(x_n(n = 6)) = -14.508657738523969\n",
      "f(x_n(n = 7)) = -16.811242831518264\n",
      "f(x_n(n = 8)) = -19.11382792451231\n",
      "f(x_n(n = 9)) = -21.416413017506358\n",
      "f(x_n(n = 10)) = -23.7189981105004\n",
      "f(x_n(n = 11)) = -26.021583203494448\n",
      "f(x_n(n = 12)) = -28.324168296488494\n",
      "f(x_n(n = 13)) = -30.626753389482538\n",
      "f(x_n(n = 14)) = -32.92933848247659\n",
      "f(x_n(n = 15)) = -35.23192357547063\n",
      "f(x_n(n = 16)) = -37.534508668464674\n",
      "f(x_n(n = 17)) = -39.837093761458725\n",
      "f(x_n(n = 18)) = -42.13967885445277\n",
      "f(x_n(n = 19)) = -44.44226394744681\n",
      "f(x_n(n = 20)) = -46.74484904044086\n",
      "f(x_n(n = 21)) = -49.047434133434905\n",
      "f(x_n(n = 22)) = -51.35001922642895\n",
      "f(x_n(n = 23)) = -53.652604319423\n",
      "f(x_n(n = 24)) = -55.95518941241704\n",
      "f(x_n(n = 25)) = -58.257774505411085\n",
      "f(x_n(n = 26)) = -60.560359598405135\n",
      "f(x_n(n = 27)) = -62.86294469139918\n",
      "f(x_n(n = 28)) = -65.16552978439323\n",
      "f(x_n(n = 29)) = -67.46811487738726\n",
      "f(x_n(n = 30)) = -69.77069997038132\n",
      "f(x_n(n = 31)) = -72.07328506337537\n",
      "f(x_n(n = 32)) = -74.3758701563694\n",
      "f(x_n(n = 33)) = -76.67845524936345\n",
      "f(x_n(n = 34)) = -78.9810403423575\n",
      "f(x_n(n = 35)) = -81.28362543535154\n",
      "f(x_n(n = 36)) = -83.58621052834559\n",
      "f(x_n(n = 37)) = -85.88879562133964\n",
      "f(x_n(n = 38)) = -88.19138071433368\n",
      "f(x_n(n = 39)) = -90.49396580732773\n",
      "f(x_n(n = 40)) = -92.79655090032178\n",
      "f(x_n(n = 41)) = -95.09913599331581\n",
      "f(x_n(n = 42)) = -97.40172108630986\n",
      "f(x_n(n = 43)) = -99.70430617930391\n",
      "f(x_n(n = 44)) = -102.00689127229795\n",
      "f(x_n(n = 45)) = -104.309476365292\n",
      "f(x_n(n = 46)) = -106.61206145828605\n",
      "f(x_n(n = 47)) = -108.91464655128009\n",
      "f(x_n(n = 48)) = -111.21723164427414\n",
      "f(x_n(n = 49)) = -113.51981673726819\n",
      "f(x_n(n = 50)) = -115.82240183026222\n",
      "f(x_n(n = 51)) = -118.12498692325627\n",
      "f(x_n(n = 52)) = -120.42757201625032\n",
      "f(x_n(n = 53)) = -122.73015710924436\n",
      "f(x_n(n = 54)) = -125.03274220223841\n",
      "f(x_n(n = 55)) = -127.33532729523246\n",
      "f(x_n(n = 56)) = -129.6379123882265\n",
      "f(x_n(n = 57)) = -131.94049748122055\n",
      "f(x_n(n = 58)) = -134.24308257421458\n",
      "f(x_n(n = 59)) = -136.54566766720865\n",
      "f(x_n(n = 60)) = -138.84825276020268\n",
      "f(x_n(n = 61)) = -141.15083785319672\n",
      "f(x_n(n = 62)) = -143.45342294619078\n",
      "f(x_n(n = 63)) = -145.75600803918482\n",
      "f(x_n(n = 64)) = -148.05859313217886\n",
      "f(x_n(n = 65)) = -150.36117822517292\n",
      "f(x_n(n = 66)) = -152.66376331816696\n",
      "f(x_n(n = 67)) = -154.966348411161\n",
      "f(x_n(n = 68)) = -157.26893350415506\n",
      "f(x_n(n = 69)) = -159.5715185971491\n",
      "f(x_n(n = 70)) = -161.87410369014313\n",
      "f(x_n(n = 71)) = -164.1766887831372\n",
      "f(x_n(n = 72)) = -166.47927387613123\n",
      "f(x_n(n = 73)) = -168.78185896912527\n",
      "f(x_n(n = 74)) = -171.08444406211933\n",
      "f(x_n(n = 75)) = -173.38702915511337\n",
      "f(x_n(n = 76)) = -175.6896142481074\n",
      "f(x_n(n = 77)) = -177.99219934110147\n",
      "f(x_n(n = 78)) = -180.2947844340955\n",
      "f(x_n(n = 79)) = -182.59736952708954\n",
      "f(x_n(n = 80)) = -184.8999546200836\n",
      "f(x_n(n = 81)) = -187.20253971307764\n",
      "f(x_n(n = 82)) = -189.50512480607168\n",
      "f(x_n(n = 83)) = -191.80770989906574\n",
      "f(x_n(n = 84)) = -194.11029499205978\n",
      "f(x_n(n = 85)) = -196.41288008505384\n",
      "f(x_n(n = 86)) = -198.71546517804788\n",
      "f(x_n(n = 87)) = -201.01805027104191\n",
      "f(x_n(n = 88)) = -203.32063536403598\n",
      "f(x_n(n = 89)) = -205.62322045703002\n",
      "f(x_n(n = 90)) = -207.92580555002405\n",
      "f(x_n(n = 91)) = -210.22839064301812\n",
      "f(x_n(n = 92)) = -212.53097573601215\n",
      "f(x_n(n = 93)) = -214.8335608290062\n",
      "f(x_n(n = 94)) = -217.13614592200025\n",
      "f(x_n(n = 95)) = -219.4387310149943\n",
      "f(x_n(n = 96)) = -221.74131610798833\n",
      "f(x_n(n = 97)) = -224.0439012009824\n",
      "f(x_n(n = 98)) = -226.34648629397643\n",
      "f(x_n(n = 99)) = -228.64907138697046\n",
      "f(x_n(n = 100)) = -230.95165647996453\n",
      "f(x_n(n = 101)) = -233.25424157295856\n",
      "f(x_n(n = 102)) = -235.5568266659526\n",
      "f(x_n(n = 103)) = -237.85941175894666\n",
      "f(x_n(n = 104)) = -240.1619968519407\n",
      "f(x_n(n = 105)) = -242.46458194493474\n",
      "f(x_n(n = 106)) = -244.7671670379288\n",
      "f(x_n(n = 107)) = -247.06975213092284\n",
      "f(x_n(n = 108)) = -249.37233722391687\n",
      "f(x_n(n = 109)) = -251.67492231691094\n",
      "f(x_n(n = 110)) = -253.97750740990497\n",
      "f(x_n(n = 111)) = -256.28009250289904\n",
      "f(x_n(n = 112)) = -258.5826775958931\n",
      "f(x_n(n = 113)) = -260.8852626888871\n",
      "f(x_n(n = 114)) = -263.18784778188115\n",
      "f(x_n(n = 115)) = -265.4904328748752\n",
      "f(x_n(n = 116)) = -267.7930179678692\n",
      "f(x_n(n = 117)) = -270.0956030608633\n",
      "f(x_n(n = 118)) = -272.39818815385735\n",
      "f(x_n(n = 119)) = -274.7007732468514\n",
      "f(x_n(n = 120)) = -277.0033583398454\n",
      "f(x_n(n = 121)) = -279.30594343283946\n",
      "f(x_n(n = 122)) = -281.6085285258335\n",
      "f(x_n(n = 123)) = -283.9111136188276\n",
      "f(x_n(n = 124)) = -286.2136987118216\n",
      "f(x_n(n = 125)) = -288.51628380481566\n",
      "f(x_n(n = 126)) = -290.8188688978097\n",
      "f(x_n(n = 127)) = -293.12145399080373\n",
      "f(x_n(n = 128)) = -295.42403908379777\n",
      "f(x_n(n = 129)) = -297.72662417679186\n",
      "f(x_n(n = 130)) = -300.0292092697859\n",
      "f(x_n(n = 131)) = -302.33179436277993\n",
      "f(x_n(n = 132)) = -304.63437945577397\n",
      "f(x_n(n = 133)) = -306.936964548768\n",
      "f(x_n(n = 134)) = -309.23954964176204\n",
      "f(x_n(n = 135)) = -311.54213473475613\n",
      "f(x_n(n = 136)) = -313.84471982775017\n",
      "f(x_n(n = 137)) = -316.1473049207442\n",
      "f(x_n(n = 138)) = -318.44989001373824\n",
      "f(x_n(n = 139)) = -320.7524751067323\n",
      "f(x_n(n = 140)) = -323.0550601997263\n",
      "f(x_n(n = 141)) = -325.3576452927204\n",
      "f(x_n(n = 142)) = -327.66023038571444\n",
      "f(x_n(n = 143)) = -329.9628154787085\n",
      "f(x_n(n = 144)) = -332.2654005717025\n",
      "f(x_n(n = 145)) = -334.56798566469655\n",
      "f(x_n(n = 146)) = -336.87057075769064\n",
      "f(x_n(n = 147)) = -339.1731558506847\n",
      "f(x_n(n = 148)) = -341.4757409436787\n",
      "f(x_n(n = 149)) = -343.77832603667275\n",
      "f(x_n(n = 150)) = -346.0809111296668\n",
      "f(x_n(n = 151)) = -348.3834962226608\n",
      "f(x_n(n = 152)) = -350.6860813156549\n",
      "f(x_n(n = 153)) = -352.98866640864895\n",
      "f(x_n(n = 154)) = -355.291251501643\n",
      "f(x_n(n = 155)) = -357.593836594637\n",
      "f(x_n(n = 156)) = -359.89642168763106\n",
      "f(x_n(n = 157)) = -362.1990067806251\n",
      "f(x_n(n = 158)) = -364.5015918736192\n",
      "f(x_n(n = 159)) = -366.8041769666132\n",
      "f(x_n(n = 160)) = -369.10676205960726\n",
      "f(x_n(n = 161)) = -371.4093471526013\n",
      "f(x_n(n = 162)) = -373.71193224559534\n",
      "f(x_n(n = 163)) = -376.01451733858937\n",
      "f(x_n(n = 164)) = -378.31710243158346\n",
      "f(x_n(n = 165)) = -380.6196875245775\n",
      "f(x_n(n = 166)) = -382.92227261757154\n",
      "f(x_n(n = 167)) = -385.2248577105656\n",
      "f(x_n(n = 168)) = -387.5274428035596\n",
      "f(x_n(n = 169)) = -389.83002789655364\n",
      "f(x_n(n = 170)) = -392.13261298954774\n",
      "f(x_n(n = 171)) = -394.4351980825418\n",
      "f(x_n(n = 172)) = -396.7377831755358\n",
      "f(x_n(n = 173)) = -399.04036826852985\n",
      "f(x_n(n = 174)) = -401.3429533615239\n",
      "f(x_n(n = 175)) = -403.6455384545179\n",
      "f(x_n(n = 176)) = -405.948123547512\n",
      "f(x_n(n = 177)) = -408.25070864050605\n",
      "f(x_n(n = 178)) = -410.5532937335001\n",
      "f(x_n(n = 179)) = -412.8558788264941\n",
      "f(x_n(n = 180)) = -415.15846391948816\n",
      "f(x_n(n = 181)) = -417.4610490124822\n",
      "f(x_n(n = 182)) = -419.7636341054763\n",
      "f(x_n(n = 183)) = -422.0662191984703\n",
      "f(x_n(n = 184)) = -424.36880429146436\n",
      "f(x_n(n = 185)) = -426.6713893844584\n",
      "f(x_n(n = 186)) = -428.97397447745243\n",
      "f(x_n(n = 187)) = -431.27655957044647\n",
      "f(x_n(n = 188)) = -433.57914466344056\n",
      "f(x_n(n = 189)) = -435.8817297564346\n",
      "f(x_n(n = 190)) = -438.18431484942863\n",
      "f(x_n(n = 191)) = -440.48689994242267\n",
      "f(x_n(n = 192)) = -442.7894850354167\n",
      "f(x_n(n = 193)) = -445.09207012841074\n",
      "f(x_n(n = 194)) = -447.39465522140483\n",
      "f(x_n(n = 195)) = -449.69724031439887\n",
      "f(x_n(n = 196)) = -451.9998254073929\n",
      "f(x_n(n = 197)) = -454.30241050038694\n",
      "f(x_n(n = 198)) = -456.604995593381\n",
      "f(x_n(n = 199)) = -458.907580686375\n",
      "f(x_n(n = 200)) = -461.2101657793691\n",
      "f(x_n(n = 201)) = -463.51275087236314\n",
      "f(x_n(n = 202)) = -465.8153359653572\n",
      "f(x_n(n = 203)) = -468.1179210583512\n",
      "f(x_n(n = 204)) = -470.42050615134525\n",
      "f(x_n(n = 205)) = -472.7230912443393\n",
      "f(x_n(n = 206)) = -475.0256763373334\n",
      "f(x_n(n = 207)) = -477.3282614303274\n",
      "f(x_n(n = 208)) = -479.63084652332145\n",
      "f(x_n(n = 209)) = -481.9334316163155\n",
      "f(x_n(n = 210)) = -484.2360167093095\n",
      "f(x_n(n = 211)) = -486.53860180230356\n",
      "f(x_n(n = 212)) = -488.84118689529765\n",
      "f(x_n(n = 213)) = -491.1437719882917\n",
      "f(x_n(n = 214)) = -493.4463570812857\n",
      "f(x_n(n = 215)) = -495.74894217427976\n",
      "f(x_n(n = 216)) = -498.0515272672738\n",
      "f(x_n(n = 217)) = -500.35411236026783\n",
      "f(x_n(n = 218)) = -502.6566974532619\n",
      "f(x_n(n = 219)) = -504.95928254625596\n",
      "f(x_n(n = 220)) = -507.26186763925\n",
      "f(x_n(n = 221)) = -509.56445273224404\n",
      "f(x_n(n = 222)) = -511.86703782523807\n",
      "f(x_n(n = 223)) = -514.1696229182321\n",
      "f(x_n(n = 224)) = -516.4722080112261\n",
      "f(x_n(n = 225)) = -518.7747931042202\n",
      "f(x_n(n = 226)) = -521.0773781972142\n",
      "f(x_n(n = 227)) = -523.3799632902084\n",
      "f(x_n(n = 228)) = -525.6825483832024\n",
      "f(x_n(n = 229)) = -527.9851334761964\n",
      "f(x_n(n = 230)) = -530.2877185691905\n",
      "f(x_n(n = 231)) = -532.5903036621845\n",
      "f(x_n(n = 232)) = -534.8928887551785\n",
      "f(x_n(n = 233)) = -537.1954738481726\n",
      "f(x_n(n = 234)) = -539.4980589411666\n",
      "f(x_n(n = 235)) = -541.8006440341607\n",
      "f(x_n(n = 236)) = -544.1032291271547\n",
      "f(x_n(n = 237)) = -546.4058142201487\n",
      "f(x_n(n = 238)) = -548.7083993131428\n",
      "f(x_n(n = 239)) = -551.0109844061369\n",
      "f(x_n(n = 240)) = -553.313569499131\n",
      "f(x_n(n = 241)) = -555.616154592125\n",
      "f(x_n(n = 242)) = -557.918739685119\n",
      "f(x_n(n = 243)) = -560.2213247781131\n",
      "f(x_n(n = 244)) = -562.5239098711071\n",
      "f(x_n(n = 245)) = -564.8264949641011\n",
      "f(x_n(n = 246)) = -567.1290800570952\n",
      "f(x_n(n = 247)) = -569.4316651500892\n",
      "f(x_n(n = 248)) = -571.7342502430832\n",
      "f(x_n(n = 249)) = -574.0368353360773\n",
      "f(x_n(n = 250)) = -576.3394204290713\n",
      "f(x_n(n = 251)) = -578.6420055220655\n",
      "f(x_n(n = 252)) = -580.9445906150595\n",
      "f(x_n(n = 253)) = -583.2471757080535\n",
      "f(x_n(n = 254)) = -585.5497608010476\n",
      "f(x_n(n = 255)) = -587.8523458940416\n",
      "f(x_n(n = 256)) = -590.1549309870356\n",
      "f(x_n(n = 257)) = -592.4575160800297\n",
      "f(x_n(n = 258)) = -594.7601011730237\n",
      "f(x_n(n = 259)) = -597.0626862660177\n",
      "f(x_n(n = 260)) = -599.3652713590118\n",
      "f(x_n(n = 261)) = -601.6678564520058\n",
      "f(x_n(n = 262)) = -603.9704415449999\n",
      "f(x_n(n = 263)) = -606.273026637994\n",
      "f(x_n(n = 264)) = -608.575611730988\n",
      "f(x_n(n = 265)) = -610.8781968239821\n",
      "f(x_n(n = 266)) = -613.1807819169761\n",
      "f(x_n(n = 267)) = -615.4833670099702\n",
      "f(x_n(n = 268)) = -617.7859521029642\n",
      "f(x_n(n = 269)) = -620.0885371959582\n",
      "f(x_n(n = 270)) = -622.3911222889523\n",
      "f(x_n(n = 271)) = -624.6937073819463\n",
      "f(x_n(n = 272)) = -626.9962924749403\n",
      "f(x_n(n = 273)) = -629.2988775679344\n",
      "f(x_n(n = 274)) = -631.6014626609285\n",
      "f(x_n(n = 275)) = -633.9040477539226\n",
      "f(x_n(n = 276)) = -636.2066328469166\n",
      "f(x_n(n = 277)) = -638.5092179399106\n",
      "f(x_n(n = 278)) = -640.8118030329047\n",
      "f(x_n(n = 279)) = -643.1143881258987\n",
      "f(x_n(n = 280)) = -645.4169732188927\n",
      "f(x_n(n = 281)) = -647.7195583118868\n",
      "f(x_n(n = 282)) = -650.0221434048808\n",
      "f(x_n(n = 283)) = -652.3247284978748\n",
      "f(x_n(n = 284)) = -654.6273135908689\n",
      "f(x_n(n = 285)) = -656.9298986838629\n",
      "f(x_n(n = 286)) = -659.2324837768571\n",
      "f(x_n(n = 287)) = -661.5350688698511\n",
      "f(x_n(n = 288)) = -663.8376539628451\n",
      "f(x_n(n = 289)) = -666.1402390558392\n",
      "f(x_n(n = 290)) = -668.4428241488332\n",
      "f(x_n(n = 291)) = -670.7454092418272\n",
      "f(x_n(n = 292)) = -673.0479943348213\n",
      "f(x_n(n = 293)) = -675.3505794278153\n",
      "f(x_n(n = 294)) = -677.6531645208094\n",
      "f(x_n(n = 295)) = -679.9557496138034\n",
      "f(x_n(n = 296)) = -682.2583347067974\n",
      "f(x_n(n = 297)) = -684.5609197997915\n",
      "f(x_n(n = 298)) = -686.8635048927856\n",
      "f(x_n(n = 299)) = -689.1660899857796\n",
      "f(x_n(n = 300)) = -691.4686750787737\n",
      "f(x_n(n = 301)) = -693.7712601717677\n",
      "f(x_n(n = 302)) = -696.0738452647618\n",
      "f(x_n(n = 303)) = -698.3764303577558\n",
      "f(x_n(n = 304)) = -700.6790154507498\n",
      "f(x_n(n = 305)) = -702.9816005437439\n",
      "f(x_n(n = 306)) = -705.2841856367379\n",
      "f(x_n(n = 307)) = -707.5867707297319\n",
      "El menor valor de n posible tal que el resultado obtenido sea erróneo es 308\n"
     ]
    },
    {
     "name": "stderr",
     "output_type": "stream",
     "text": [
      "c:\\users\\lucio\\appdata\\local\\programs\\python\\python37\\lib\\site-packages\\ipykernel_launcher.py:4: RuntimeWarning: overflow encountered in double_scalars\n",
      "  after removing the cwd from sys.path.\n"
     ]
    }
   ],
   "source": [
    "x_n = lambda n: 10.0**n\n",
    "n = 1\n",
    "\n",
    "f2 = lambda x: -np.log(x + np.sqrt(x + 1)*np.sqrt(x-1))\n",
    "while f2(x_n(n)) != np.NINF:\n",
    "    print(\"f(x_n(n = \" + str(n) + \")) = \" + str(f2(x_n(n))))\n",
    "    n += 1\n",
    "\n",
    "print(\"El menor valor de n posible tal que el resultado obtenido sea erróneo es \" + str(n))"
   ]
  },
  {
   "cell_type": "markdown",
   "metadata": {},
   "source": [
    "6) Sólo bastaría evaluar $f_2(2.61073 \\cdot 10^{173})$ en la función $f_2$ propuesta"
   ]
  },
  {
   "cell_type": "code",
   "execution_count": 157,
   "metadata": {},
   "outputs": [
    {
     "data": {
      "text/plain": [
       "-399.9999981442441"
      ]
     },
     "execution_count": 157,
     "metadata": {},
     "output_type": "execute_result"
    }
   ],
   "source": [
    "f2 = lambda x: -np.log(x + np.sqrt(x + 1)*np.sqrt(x-1))\n",
    "f2(2.61073e173)"
   ]
  }
 ],
 "metadata": {
  "kernelspec": {
   "display_name": "Python 3",
   "language": "python",
   "name": "python3"
  },
  "language_info": {
   "codemirror_mode": {
    "name": "ipython",
    "version": 3
   },
   "file_extension": ".py",
   "mimetype": "text/x-python",
   "name": "python",
   "nbconvert_exporter": "python",
   "pygments_lexer": "ipython3",
   "version": "3.7.3"
  }
 },
 "nbformat": 4,
 "nbformat_minor": 4
}
