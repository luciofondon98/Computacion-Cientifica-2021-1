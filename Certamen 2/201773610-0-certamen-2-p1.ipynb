{
 "cells": [
  {
   "cell_type": "markdown",
   "metadata": {},
   "source": [
    "<center>\n",
    "    <img src=\"http://sct.inf.utfsm.cl/wp-content/uploads/2020/04/logo_di.png\" style=\"width:60%\">\n",
    "    <h1> INF285 - Computación Científica </h1>\n",
    "    <h2> Certamen 2 - P1</h2>\n",
    "    <h2> <a href=\"#acknowledgements\"> [S]cientific [C]omputing [T]eam </a> </h2>\n",
    "    <h2> Version: 1.00</h2>\n",
    "</center>"
   ]
  },
  {
   "cell_type": "markdown",
   "metadata": {},
   "source": [
    "# No debe utilizar bibliotecas adicionales."
   ]
  },
  {
   "cell_type": "code",
   "execution_count": null,
   "metadata": {},
   "outputs": [],
   "source": [
    "import numpy as np"
   ]
  },
  {
   "cell_type": "markdown",
   "metadata": {},
   "source": [
    "# Pregunta 1 - datos"
   ]
  },
  {
   "cell_type": "code",
   "execution_count": null,
   "metadata": {},
   "outputs": [],
   "source": [
    "A0 = np.array([[0.5,0,20],[0,0.2,-4],[0,0,0]])\n",
    "A1 = np.array(\n",
    "    [[0.5, 0, 0.1, 0, -1],\n",
    "    [0, 0.2, -0.4, 1, 0],\n",
    "    [0, 1  , -2 , 0, 0],\n",
    "    [1, 2  , -3.8 , 2, 1],\n",
    "    [-1, 2, -4.2 , 2, -1]])\n",
    "A2 = np.load('./A2.npy')\n",
    "A3 = np.load('./A3.npy')"
   ]
  },
  {
   "cell_type": "markdown",
   "metadata": {},
   "source": [
    "# Pregunta 1 - desarrollo"
   ]
  },
  {
   "cell_type": "code",
   "execution_count": null,
   "metadata": {},
   "outputs": [],
   "source": [
    "'''\n",
    "input:\n",
    "A       : (ndarray) matriz de mxn\n",
    "delta   : (double) umbral para definir dependencia lineal\n",
    "\n",
    "output:\n",
    "li      : (ndarray) vector 'int64' con indices de columnas linealmente independientes\n",
    "'''\n",
    "def find_li_columns_indices(A,delta):\n",
    "    # Se utilizará particularmente QR reducido y modificado, dado el hint\n",
    "    li = []\n",
    "    \n",
    "    # filas, columnas\n",
    "    n,m = A.shape\n",
    "    \n",
    "    Q, R =  np.zeros((n,m)), np.zeros((m,m))\n",
    "    for j in np.arange(m):\n",
    "        y = A[:,j]\n",
    "        for i in np.arange(j):\n",
    "            R[i,j] = np.dot(Q[:,i],y)\n",
    "            y = y - R[i,j] * Q[:,i]\n",
    "    \n",
    "        R[j,j] = np.linalg.norm(y)\n",
    "        \n",
    "        # Comprobamos |alfa_1*v_1 + alfa_2*v_2 + ... + alfa_k*v_k| < delta\n",
    "        # Si lo es, entonces reemplazamos la columna con 0's (para no tener problemas con nan)\n",
    "        # Luego, si la norma es menor al delta, entonces la columna es lD\n",
    "        \n",
    "        if np.linalg.norm(R[j,j]) < delta: #Columna LD\n",
    "            Q[:,j] = np.zeros(n)\n",
    "        else:\n",
    "            Q[:,j] = y/np.linalg.norm(R[j,j])\n",
    "            li.append(j) # agregamos el índice de la columna, que si es LI en este caso\n",
    "            if len(li) == m:\n",
    "                break\n",
    "    li = np.array(li)\n",
    "    li.astype(np.int64)\n",
    "    return li"
   ]
  }
 ],
 "metadata": {
  "kernelspec": {
   "display_name": "Python 3",
   "language": "python",
   "name": "python3"
  },
  "language_info": {
   "codemirror_mode": {
    "name": "ipython",
    "version": 3
   },
   "file_extension": ".py",
   "mimetype": "text/x-python",
   "name": "python",
   "nbconvert_exporter": "python",
   "pygments_lexer": "ipython3",
   "version": "3.7.3"
  }
 },
 "nbformat": 4,
 "nbformat_minor": 5
}
