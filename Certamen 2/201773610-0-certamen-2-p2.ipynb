{
 "cells": [
  {
   "cell_type": "markdown",
   "metadata": {},
   "source": [
    "<center>\n",
    "    <img src=\"http://sct.inf.utfsm.cl/wp-content/uploads/2020/04/logo_di.png\" style=\"width:60%\">\n",
    "    <h1> INF285 - Computación Científica </h1>\n",
    "    <h2> Certamen 2 - P2</h2>\n",
    "    <h2> <a href=\"#acknowledgements\"> [S]cientific [C]omputing [T]eam </a> </h2>\n",
    "    <h2> Version: 1.00</h2>\n",
    "</center>"
   ]
  },
  {
   "cell_type": "markdown",
   "metadata": {},
   "source": [
    "# No debe utilizar bibliotecas adicionales."
   ]
  },
  {
   "cell_type": "code",
   "execution_count": null,
   "metadata": {},
   "outputs": [],
   "source": [
    "import numpy as np\n",
    "# It may be useful to use the following implementation for polynomial interpolation!\n",
    "from scipy.interpolate import BarycentricInterpolator"
   ]
  },
  {
   "cell_type": "markdown",
   "metadata": {},
   "source": [
    "# Pregunta 2 - desarrollo"
   ]
  },
  {
   "cell_type": "code",
   "execution_count": null,
   "metadata": {},
   "outputs": [],
   "source": [
    "# Función sacado del Jupyter del profe Claudio Torres\n",
    "def Chebyshev_points(a,b,n):\n",
    "    ns = np.arange(1,n+1)\n",
    "    x = np.cos((2*ns-1)*np.pi/(2*n))\n",
    "    return (a+b)/2 + (a-b)*x/2\n",
    "\n",
    "'''\n",
    "input:\n",
    "n     : (int) numero de puntos a utilizar en la interpolación\n",
    "\n",
    "output:\n",
    "pLog  : (callable) implementación de polinomio interpolador\n",
    "'''\n",
    "def interpolateLog(n):\n",
    "    #Si x e [-1,1] en f(x), entonces y e [exp(-1), exp(1)], el cual sería nuestro invertalo a usar con pts de chebyshev\n",
    "    # Obtenemos los pts de chebyshev\n",
    "    x = Chebyshev_points(np.exp(-1), np.exp(1), n)\n",
    "    \n",
    "    # Nuetros y'es son los pts de chebyshev evaluados en la funcion logaritmo (np.log)\n",
    "    y = np.log(x)\n",
    "    \n",
    "    # Finalmente, aplicamos interpolacion baricentrica con los x y e obtenidos\n",
    "    pLog = BarycentricInterpolator(x, y)\n",
    "    return pLog\n",
    "\n",
    "'''\n",
    "input:\n",
    "n               : (int) numero de puntos a utilizar en la interpolación\n",
    "\n",
    "output:\n",
    "discrete_error  : (float) error discreto de interpolación 'ErrorD'\n",
    "'''\n",
    "def ErrorD(n):\n",
    "    equiespaciados = np.linspace(-1.0, 1.0, num=100000)\n",
    "    pLog = interpolateLog(n)\n",
    "    error = abs(pLog(np.exp(equiespaciados)) - equiespaciados)\n",
    "    discrete_error = max(error)\n",
    "    return discrete_error\n",
    "\n",
    "'''\n",
    "input:\n",
    "threshold   : (float) umbral de máximo error permitido\n",
    "\n",
    "output:\n",
    "n           : (int) numero de puntos a utilizar en la interpolación\n",
    "'''\n",
    "def find_n_log(threshold):\n",
    "    # Rango va desde 2 a 100\n",
    "    rango = np.arange(2,101)\n",
    "    n = -1\n",
    "    for i in range(len(rango)):\n",
    "        if ErrorD(rango[i]) > threshold:\n",
    "            pass\n",
    "        else:\n",
    "            n = rango[i]\n",
    "            return n\n",
    "    return n"
   ]
  }
 ],
 "metadata": {
  "kernelspec": {
   "display_name": "Python 3",
   "language": "python",
   "name": "python3"
  },
  "language_info": {
   "codemirror_mode": {
    "name": "ipython",
    "version": 3
   },
   "file_extension": ".py",
   "mimetype": "text/x-python",
   "name": "python",
   "nbconvert_exporter": "python",
   "pygments_lexer": "ipython3",
   "version": "3.7.3"
  }
 },
 "nbformat": 4,
 "nbformat_minor": 5
}
