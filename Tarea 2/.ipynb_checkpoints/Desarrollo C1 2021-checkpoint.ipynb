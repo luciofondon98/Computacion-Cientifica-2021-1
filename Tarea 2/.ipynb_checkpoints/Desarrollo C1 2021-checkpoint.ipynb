{
 "cells": [
  {
   "cell_type": "markdown",
   "metadata": {},
   "source": [
    "# Desarrollo C1"
   ]
  },
  {
   "cell_type": "code",
   "execution_count": 2,
   "metadata": {},
   "outputs": [],
   "source": [
    "import numpy as np"
   ]
  },
  {
   "cell_type": "markdown",
   "metadata": {},
   "source": [
    "## Definiciones previas:"
   ]
  },
  {
   "cell_type": "code",
   "execution_count": 3,
   "metadata": {},
   "outputs": [],
   "source": [
    "def lu_decomp(A, show=False, precision=2):\n",
    "    N,_ = A.shape\n",
    "    U = np.copy(A)\n",
    "    L = np.identity(N)\n",
    "    if show:\n",
    "        print('Initial matrices')\n",
    "        print('L = '); print(np.array_str(L, precision=precision, suppress_small=True))\n",
    "        print('U = '); print(np.array_str(U, precision=precision, suppress_small=True))\n",
    "        print('----------------------------------------')\n",
    "    #iterating through columns\n",
    "    for j in range(N-1):\n",
    "        #iterating through rows\n",
    "        for i in range(j+1,N):\n",
    "            L[i,j] = U[i,j]/U[j,j]\n",
    "            U[i] -= L[i,j]*U[j] \n",
    "            if show:\n",
    "                print('L = '); print(np.array_str(L, precision=precision, suppress_small=True))\n",
    "                print('U = '); print(np.array_str(U, precision=precision, suppress_small=True))\n",
    "                print('----------------------------------------')\n",
    "    return L,U\n",
    "def solve_triangular(A, b, upper=True):\n",
    "    n = b.shape[0]\n",
    "    x = np.zeros_like(b)\n",
    "    if upper==True:\n",
    "        #perform back-substitution\n",
    "        x[-1] = (1./A[-1,-1]) * b[-1]\n",
    "        for i in range(n-2, -1, -1):\n",
    "            x[i] = (1./A[i,i]) * (b[i] - np.sum(A[i,i+1:] * x[i+1:]))\n",
    "    else:\n",
    "        #perform forward-substitution\n",
    "        x[0] = (1./A[0,0]) * b[0]\n",
    "        for i in range(1,n):\n",
    "            x[i] = (1./A[i,i]) * (b[i] - np.sum(A[i,:i] * x[:i]))\n",
    "    return x\n",
    "#permutation between rows i and j on matrix A\n",
    "def row_perm(A, i, j):\n",
    "    tmp = np.copy(A[i])\n",
    "    A[i] = A[j]\n",
    "    A[j] = tmp\n",
    "\n",
    "def palu_decomp(A, show=False, precision=2):\n",
    "    N,_ = A.shape\n",
    "    P = np.identity(N)\n",
    "    L = np.zeros((N,N))\n",
    "    U = np.copy(A)\n",
    "    if show:\n",
    "        print('Initial matrices')\n",
    "        print('P = '); print(np.array_str(P, precision=precision, suppress_small=True))\n",
    "        print('L = '); print(np.array_str(L, precision=precision, suppress_small=True))\n",
    "        print('U = '); print(np.array_str(U, precision=precision, suppress_small=True))\n",
    "        print('----------------------------------------')\n",
    "    #iterating through columns\n",
    "    for j in range(N-1):\n",
    "        #determine the new pivot\n",
    "        p_index = np.argmax(np.abs(U[j:,j]))\n",
    "        if p_index != 0:\n",
    "            row_perm(P, j, j+p_index)\n",
    "            row_perm(U, j, j+p_index)\n",
    "            row_perm(L, j, j+p_index)\n",
    "            if show:\n",
    "                print('A permutation has been made')\n",
    "                print('P = '); print(np.array_str(P, precision=precision, suppress_small=True))\n",
    "                print('L = '); print(np.array_str(L, precision=precision, suppress_small=True))\n",
    "                print('U = '); print(np.array_str(U, precision=precision, suppress_small=True))\n",
    "                print('----------------------------------------')\n",
    "        #iterating through rows\n",
    "        for i in range(j+1,N):\n",
    "            L[i,j] = U[i,j]/U[j,j]\n",
    "            U[i] -= L[i,j]*U[j]\n",
    "            if show:\n",
    "                print('P = '); print(np.array_str(P, precision=precision, suppress_small=True))\n",
    "                print('L = '); print(np.array_str(L, precision=precision, suppress_small=True))\n",
    "                print('U = '); print(np.array_str(U, precision=precision, suppress_small=True))\n",
    "                print('----------------------------------------')\n",
    "    np.fill_diagonal(L,1)\n",
    "    return P,L,U\n",
    "def solve_palu(A, b, show=False, precision=2):\n",
    "    P,L,U = palu_decomp(A, show, precision=precision)\n",
    "    #A.x = b -> P.A.x = P.b = b'\n",
    "    b = np.dot(P,b)\n",
    "    # L.c = b' with c = U.x\n",
    "    c = solve_triangular(L, b, upper=False)\n",
    "    x = solve_triangular(U, c)\n",
    "    return x"
   ]
  },
  {
   "cell_type": "markdown",
   "metadata": {},
   "source": [
    "## Pregunta 1\n",
    "\n",
    "Problema - variante 1:\n",
    "\\begin{align*}\n",
    "    Y & = A_1\\,X+B_1,\\\\\n",
    "    Y & = X\\,A_2+B_2,\n",
    "\\end{align*}\n",
    "\n",
    "Problema - variante 2:\n",
    "\\begin{align*}\n",
    "    Y & = X\\,A_1+B_1,\\\\\n",
    "    Y & = A_2\\,X+B_2,\n",
    "\\end{align*}\n"
   ]
  },
  {
   "cell_type": "code",
   "execution_count": 4,
   "metadata": {},
   "outputs": [],
   "source": [
    "FLAG_variante_problema=1\n",
    "FLAG_variante_data=1\n",
    "FLAG_vector_incognitas=1 # if \\mathbf{x}=[x1,x2,x3,x4]: 1, else (\\mathbf{x}=[x1,x3,x2,x4]): 2.\n",
    "\n",
    "if FLAG_variante_data==1:\n",
    "    A1 = np.array([[0.0487248808,0.2891096598],[0.7209663468,0.0216162499]])\n",
    "    A2 = np.array([[0.0487248808,0.0507732567],[0.302271894,0.6639102946]])\n",
    "    B1 = np.array([[0.3081143932,0.5835912762],[0.0695709546,0.867404484]])\n",
    "    B2 = np.array([[0.1332405193,0.1781246616],[0.4959295498,0.8636996446]])\n",
    "else:\n",
    "    A1 = np.array([[0.5881308011,0.8977137279],[0.8915307295,0.8158374773]])\n",
    "    A2 = np.array([[0.0358895856,0.6917575818],[0.378680942,0.5185109454]])\n",
    "    B1 = np.array([[0.6579514656,0.1938502179],[0.2723164021,0.7186059336]])\n",
    "    B2 = np.array([[0.7830036095,0.8503276398],[0.775244894,0.0366643064]])\n",
    "# Identity of 2x2\n",
    "II = np.eye(2)\n",
    "\n",
    "if FLAG_variante_problema==1:\n",
    "    C=np.kron(II,A1)-np.kron(A2.T,II)\n",
    "else:\n",
    "    C=np.kron(A1.T,II)-np.kron(II,A2)\n",
    "\n",
    "if FLAG_vector_incognitas==1:\n",
    "    # Variante 1, considerando vector incógnitas como [x1,x2,x3,x4]\n",
    "    # No change in C\n",
    "    pass\n",
    "else:\n",
    "    # Variante 2, considerando vector incógnitas como [x1,x2,x3,x4]\n",
    "    C=C[:,[0,2,1,3]]"
   ]
  },
  {
   "cell_type": "markdown",
   "metadata": {},
   "source": [
    "En esta celda se incluyen las matriz $C$ para cada variante considerando que el vector de incógnitas es $[x1,x2,x3,x4]$.\n",
    "En el caso de que el vector de incógnitas se hubiera considerado como $[x1,x2,x3,x4]$, solo es necesario alternar la 2da columna con la tercera, respectivamente.\n",
    "\n",
    "if FLAG_variante_problema==1:\n",
    "    $$\n",
    "    C=\\left(\n",
    "        \\begin{array}{cccc}\n",
    "         \\text{a11}-\\text{a21} & \\text{a13} & -\\text{a22} & 0 \\\\\n",
    "         \\text{a12} & \\text{a14}-\\text{a21} & 0 & -\\text{a22} \\\\\n",
    "         -\\text{a23} & 0 & \\text{a11}-\\text{a24} & \\text{a13} \\\\\n",
    "         0 & -\\text{a23} & \\text{a12} & \\text{a14}-\\text{a24} \\\\\n",
    "        \\end{array}\n",
    "        \\right)\n",
    "    $$\n",
    "else:\n",
    "    $$\n",
    "    C=\\left(\n",
    "        \\begin{array}{cccc}\n",
    "         \\text{a11}-\\text{a21} & -\\text{a23} & \\text{a12} & 0 \\\\\n",
    "         -\\text{a22} & \\text{a11}-\\text{a24} & 0 & \\text{a12} \\\\\n",
    "         \\text{a13} & 0 & \\text{a14}-\\text{a21} & -\\text{a23} \\\\\n",
    "         0 & \\text{a13} & -\\text{a22} & \\text{a14}-\\text{a24} \\\\\n",
    "        \\end{array}\n",
    "        \\right)\n",
    "    $$"
   ]
  },
  {
   "cell_type": "markdown",
   "metadata": {},
   "source": [
    "#### Parte 1: Si A1=A2\n",
    "if FLAG_variante_problema==1:\n",
    "    $$\n",
    "    C=\\left(\n",
    "        \\begin{array}{cccc}\n",
    "         0 & \\text{a23} & -\\text{a22} & 0 \\\\\n",
    "         \\text{a22} & \\text{a24}-\\text{a21} & 0 & -\\text{a22} \\\\\n",
    "         -\\text{a23} & 0 & \\text{a21}-\\text{a24} & \\text{a23} \\\\\n",
    "         0 & -\\text{a23} & \\text{a22} & 0 \\\\\n",
    "        \\end{array}\n",
    "        \\right)\n",
    "    $$\n",
    "else:\n",
    "    $$\n",
    "    C=\\left(\n",
    "        \\begin{array}{cccc}\n",
    "         0 & -\\text{a23} & \\text{a22} & 0 \\\\\n",
    "         -\\text{a22} & \\text{a21}-\\text{a24} & 0 & \\text{a22} \\\\\n",
    "         \\text{a23} & 0 & \\text{a24}-\\text{a21} & -\\text{a23} \\\\\n",
    "         0 & \\text{a23} & -\\text{a22} & 0 \\\\\n",
    "        \\end{array}\n",
    "        \\right) \n",
    "    $$\n",
    "Por lo tanto como la primera y última filas son linealmente dependientes, el determinante es 0. \n",
    "Esto significa que la respuesta a la pregunta es \"Falso\".\n",
    "Notar que $a_{ij}$ corresponde a los coeficicientes de $A_1$ definidos en la pregunta."
   ]
  },
  {
   "cell_type": "markdown",
   "metadata": {},
   "source": [
    "#### Parte 2:\n",
    "**Variante 1 - \"Si la matriz $A_1$ fuera la matriz nula, sigue siendo no singular la matriz C\"**\n",
    "\n",
    "If FLAG_variante_problema==1:\n",
    "$$\n",
    "C=\\left(\n",
    "\\begin{array}{cccc}\n",
    " -\\text{a21} & 0 & -\\text{a22} & 0 \\\\\n",
    " 0 & -\\text{a21} & 0 & -\\text{a22} \\\\\n",
    " -\\text{a23} & 0 & -\\text{a24} & 0 \\\\\n",
    " 0 & -\\text{a23} & 0 & -\\text{a24} \\\\\n",
    "\\end{array}\n",
    "\\right)\n",
    "$$\n",
    "Por lo tanto es Verdadero.\n",
    "\n",
    "Else:\n",
    "$$\n",
    "C=\\left(\n",
    "\\begin{array}{cccc}\n",
    " -\\text{a21} & -\\text{a23} & 0 & 0 \\\\\n",
    " -\\text{a22} & -\\text{a24} & 0 & 0 \\\\\n",
    " 0 & 0 & -\\text{a21} & -\\text{a23} \\\\\n",
    " 0 & 0 & -\\text{a22} & -\\text{a24} \\\\\n",
    "\\end{array}\n",
    "\\right)\n",
    "$$\n",
    "Por lo tanto es Verdadero.\n",
    "\n",
    "**Variante 2 - \"Si la matriz $A_2$ fuera la matriz nula, sigue siendo no singular la matriz C\"**\n",
    "\n",
    "If FLAG_variante_problema==1:\n",
    "$$\n",
    "C=\\left(\n",
    "\\begin{array}{cccc}\n",
    " \\text{a11} & \\text{a13} & 0 & 0 \\\\\n",
    " \\text{a12} & \\text{a14} & 0 & 0 \\\\\n",
    " 0 & 0 & \\text{a11} & \\text{a13} \\\\\n",
    " 0 & 0 & \\text{a12} & \\text{a14} \\\\\n",
    "\\end{array}\n",
    "\\right)\n",
    "$$\n",
    "Por lo tanto es Verdadero.\n",
    "\n",
    "Else:\n",
    "$$\n",
    "C=\\left(\n",
    "\\begin{array}{cccc}\n",
    " \\text{a11} & 0 & \\text{a12} & 0 \\\\\n",
    " 0 & \\text{a11} & 0 & \\text{a12} \\\\\n",
    " \\text{a13} & 0 & \\text{a14} & 0 \\\\\n",
    " 0 & \\text{a13} & 0 & \\text{a14} \\\\\n",
    "\\end{array}\n",
    "\\right)\n",
    "$$\n",
    "Por lo tanto es Verdadero.\n"
   ]
  },
  {
   "cell_type": "markdown",
   "metadata": {},
   "source": [
    "#### Parte 3:\n",
    "En este caso es suficiente determinar si $a_{1,1}\\neq a_{2,1}$.\n",
    "De todos modos es recomendable ejercutar numéricamente el experimento asociado.\n",
    "\n",
    "If FLAG_variante_data==1:\n",
    "\n",
    "    En este caso es Falso.\n",
    "\n",
    "Else:\n",
    "\n",
    "    En este caso es Verdadero.\n",
    "\n",
    "A continuación se presenta el código para ejecutar el experimento numérico respectivo."
   ]
  },
  {
   "cell_type": "code",
   "execution_count": 5,
   "metadata": {},
   "outputs": [
    {
     "name": "stdout",
     "output_type": "stream",
     "text": [
      "[[ 0.          0.28910966 -0.30227189  0.        ]\n",
      " [        nan        -inf         inf         nan]\n",
      " [        nan         nan         nan         nan]\n",
      " [        nan         nan         nan         nan]]\n"
     ]
    },
    {
     "name": "stderr",
     "output_type": "stream",
     "text": [
      "c:\\users\\lucio\\appdata\\local\\programs\\python\\python37\\lib\\site-packages\\ipykernel_launcher.py:14: RuntimeWarning: divide by zero encountered in double_scalars\n",
      "  \n",
      "c:\\users\\lucio\\appdata\\local\\programs\\python\\python37\\lib\\site-packages\\ipykernel_launcher.py:15: RuntimeWarning: invalid value encountered in multiply\n",
      "  from ipykernel import kernelapp as app\n",
      "c:\\users\\lucio\\appdata\\local\\programs\\python\\python37\\lib\\site-packages\\ipykernel_launcher.py:14: RuntimeWarning: invalid value encountered in double_scalars\n",
      "  \n"
     ]
    }
   ],
   "source": [
    "L,U=lu_decomp(C, show=False)\n",
    "print(U)"
   ]
  },
  {
   "cell_type": "markdown",
   "metadata": {},
   "source": [
    "#### Parte 4:"
   ]
  },
  {
   "cell_type": "code",
   "execution_count": 6,
   "metadata": {},
   "outputs": [
    {
     "name": "stdout",
     "output_type": "stream",
     "text": [
      "[ 0.         -0.02710863 -0.61518541 -0.64229404]\n"
     ]
    }
   ],
   "source": [
    "print(np.diag(C))"
   ]
  },
  {
   "cell_type": "markdown",
   "metadata": {},
   "source": [
    "#### Parte 5:"
   ]
  },
  {
   "cell_type": "code",
   "execution_count": 9,
   "metadata": {},
   "outputs": [
    {
     "name": "stdout",
     "output_type": "stream",
     "text": [
      "[1.1396973  0.6019719  1.15429113 1.25385846]\n"
     ]
    }
   ],
   "source": [
    "# Algoritmo\n",
    "x=solve_palu(C, B2.flatten('F')-B1.flatten('F'))\n",
    "print(x)"
   ]
  },
  {
   "cell_type": "markdown",
   "metadata": {},
   "source": [
    "#### Parte 6:"
   ]
  },
  {
   "cell_type": "code",
   "execution_count": 8,
   "metadata": {},
   "outputs": [
    {
     "name": "stdout",
     "output_type": "stream",
     "text": [
      "[ 0.72096635  0.28910966  0.66788155 -0.32571382]\n"
     ]
    }
   ],
   "source": [
    "P,L,U = palu_decomp(C)\n",
    "print(np.diag(U))"
   ]
  },
  {
   "cell_type": "markdown",
   "metadata": {},
   "source": [
    "## Pregunta 2 - opción 1"
   ]
  },
  {
   "cell_type": "code",
   "execution_count": 8,
   "metadata": {},
   "outputs": [
    {
     "name": "stdout",
     "output_type": "stream",
     "text": [
      "[1.00000000e+00 8.13773957e+04 1.32445611e+10 2.15561577e+15\n",
      " 3.50836796e+20]\n"
     ]
    }
   ],
   "source": [
    "x = np.cosh(-12*np.arange(5))\n",
    "print(x)"
   ]
  },
  {
   "cell_type": "markdown",
   "metadata": {},
   "source": [
    "#### Parte 1:"
   ]
  },
  {
   "cell_type": "code",
   "execution_count": 9,
   "metadata": {},
   "outputs": [],
   "source": [
    "f1 = lambda x: np.log(x - np.sqrt(x**2 - 1))"
   ]
  },
  {
   "cell_type": "code",
   "execution_count": 10,
   "metadata": {},
   "outputs": [
    {
     "name": "stderr",
     "output_type": "stream",
     "text": [
      "<ipython-input-9-b75ba5db325e>:1: RuntimeWarning: divide by zero encountered in log\n",
      "  f1 = lambda x: np.log(x - np.sqrt(x**2 - 1))\n"
     ]
    },
    {
     "data": {
      "text/plain": [
       "array([  0.        , -12.00000014,         -inf,         -inf,\n",
       "               -inf])"
      ]
     },
     "execution_count": 10,
     "metadata": {},
     "output_type": "execute_result"
    }
   ],
   "source": [
    "f1(x)"
   ]
  },
  {
   "cell_type": "markdown",
   "metadata": {},
   "source": [
    "#### Parte 2:"
   ]
  },
  {
   "cell_type": "code",
   "execution_count": 11,
   "metadata": {},
   "outputs": [
    {
     "name": "stdout",
     "output_type": "stream",
     "text": [
      "3\n"
     ]
    }
   ],
   "source": [
    "# Opción 1 - índice en cual falla.\n",
    "print(3)"
   ]
  },
  {
   "cell_type": "code",
   "execution_count": 12,
   "metadata": {},
   "outputs": [
    {
     "data": {
      "text/plain": [
       "13244561064.921736"
      ]
     },
     "execution_count": 12,
     "metadata": {},
     "output_type": "execute_result"
    }
   ],
   "source": [
    "# Opción 2 - valor en cual falla.\n",
    "x[2]"
   ]
  },
  {
   "cell_type": "markdown",
   "metadata": {},
   "source": [
    "#### Parte 3:"
   ]
  },
  {
   "cell_type": "code",
   "execution_count": 13,
   "metadata": {},
   "outputs": [],
   "source": [
    "# Hay varias alternativas, se presentan solo algunas:\n",
    "FLAG_alternativas=1\n",
    "if FLAG_alternativas==1:\n",
    "    f2= lambda x: -np.log(x)-np.log(1+np.sqrt(1-(1/x)**2))\n",
    "else:\n",
    "    f2= lambda x: -2*np.log(np.sqrt((x + 1)/2) + np.sqrt((x - 1)/2))"
   ]
  },
  {
   "cell_type": "markdown",
   "metadata": {},
   "source": [
    "#### Parte 4:"
   ]
  },
  {
   "cell_type": "code",
   "execution_count": 14,
   "metadata": {},
   "outputs": [
    {
     "name": "stdout",
     "output_type": "stream",
     "text": [
      "n= 8\n",
      "-16.805431370234086\n",
      "-inf\n"
     ]
    },
    {
     "name": "stderr",
     "output_type": "stream",
     "text": [
      "<ipython-input-9-b75ba5db325e>:1: RuntimeWarning: divide by zero encountered in log\n",
      "  f1 = lambda x: np.log(x - np.sqrt(x**2 - 1))\n"
     ]
    }
   ],
   "source": [
    "for n in range(401):\n",
    "    if np.isinf(f1(np.power(10.0,n))):\n",
    "        print('n=',n)\n",
    "        break\n",
    "print(f1(np.power(10.0,n-1)))\n",
    "print(f1(np.power(10.0,n)))"
   ]
  },
  {
   "cell_type": "markdown",
   "metadata": {},
   "source": [
    "#### Parte 5:"
   ]
  },
  {
   "cell_type": "code",
   "execution_count": 15,
   "metadata": {},
   "outputs": [
    {
     "name": "stdout",
     "output_type": "stream",
     "text": [
      "n= 309\n",
      "-709.889355822726\n",
      "-inf\n"
     ]
    },
    {
     "name": "stderr",
     "output_type": "stream",
     "text": [
      "<ipython-input-15-cc3034c1b916>:2: RuntimeWarning: overflow encountered in power\n",
      "  if np.isinf(f2(np.power(10.0,n))):\n",
      "<ipython-input-15-cc3034c1b916>:6: RuntimeWarning: overflow encountered in power\n",
      "  print(f2(np.power(10.0,n)))\n"
     ]
    }
   ],
   "source": [
    "for n in range(401):\n",
    "    if np.isinf(f2(np.power(10.0,n))):\n",
    "        print('n=',n)\n",
    "        break\n",
    "print(f2(np.power(10.0,n-1)))\n",
    "print(f2(np.power(10.0,n)))"
   ]
  },
  {
   "cell_type": "markdown",
   "metadata": {},
   "source": [
    "#### Parte 6:"
   ]
  },
  {
   "cell_type": "code",
   "execution_count": 16,
   "metadata": {},
   "outputs": [
    {
     "name": "stdout",
     "output_type": "stream",
     "text": [
      "-399.9999981442441\n"
     ]
    }
   ],
   "source": [
    "print(f2(2.61073*np.power(10.0,173)))"
   ]
  },
  {
   "cell_type": "markdown",
   "metadata": {},
   "source": [
    "## Pregunta 2 - opción 2"
   ]
  },
  {
   "cell_type": "markdown",
   "metadata": {},
   "source": [
    "En este caso es necesario obtener la componente real e imaginaria de $f(z)=z^3-w_0$, considerando $z=a+\\mathrm{i}\\,b$ y $w_0=a_0+\\mathrm{i}\\,b_0$, lo que nos da:\n",
    "\\begin{align*}\n",
    "    \\mathcal{Re}(f(z))&=a^3-3\\,a\\,b^2-a_0,\\\\\n",
    "    \\mathcal{Im}(f(z))&=3\\,a^2\\,b-b^3-b_0.\\\\\n",
    "\\end{align*}\n",
    "Lo que nos da la siguiente matriz Jacobiana,\n",
    "$$\n",
    "J=\n",
    "\\begin{bmatrix}\n",
    "    3\\,a^2-3\\,b^2 & -6\\,a\\,b\\\\\n",
    "    6\\,a\\,b & 3\\,a^2-3\\,b^2\n",
    "\\end{bmatrix}.\n",
    "$$\n",
    "\n",
    "Se deben considerar las siguientes alternativas de inicialización:\n",
    "- Variante 1: $z_0=2-0.01\\,\\mathrm{i}$.\n",
    "- Variante 2: $z_0=-1+1.5\\,\\mathrm{i}$.\n",
    "- Variante 3: $z_0=-1-1.5\\,\\mathrm{i}$."
   ]
  },
  {
   "cell_type": "code",
   "execution_count": 17,
   "metadata": {},
   "outputs": [],
   "source": [
    "FLAG_variante=1"
   ]
  },
  {
   "cell_type": "markdown",
   "metadata": {},
   "source": [
    "#### Parte 1:"
   ]
  },
  {
   "cell_type": "code",
   "execution_count": 18,
   "metadata": {},
   "outputs": [],
   "source": [
    "def solverCubicComplexRoot(a0, b0, niter=2, printJacobianDeterminant=False):\n",
    "    if FLAG_variante==1:\n",
    "        x0 = np.array([2,-0.01])\n",
    "    elif FLAG_variante==2:\n",
    "        x0 = np.array([-1,1.5])\n",
    "    else:\n",
    "        x0 = np.array([-1,-1.5])\n",
    "    \n",
    "    x1 = np.zeros_like(x0)\n",
    "    \n",
    "    f1 = lambda x: x[0]**3-3*x[0]*x[1]**2-a0\n",
    "    f2 = lambda x: 3*x[0]**2*x[1]-x[1]**3-b0\n",
    "    F  = lambda x: np.array([f1(x),f2(x)],dtype=np.float)\n",
    "    J  = lambda x: np.array([[3*x[0]**2-3*x[1]**2, -6*x[0]*x[1]],[6*x[0]*x[1], 3*x[0]**2-3*x[1]**2]],dtype=np.float)\n",
    "    \n",
    "    for i in range(niter):\n",
    "        if printJacobianDeterminant:\n",
    "            print(np.linalg.det(J(x0)))\n",
    "        x1 = x0 - np.linalg.solve(J(x0),F(x0))\n",
    "        x0 = x1\n",
    "    x = x1[0]\n",
    "    y = x1[1]\n",
    "    return x,y"
   ]
  },
  {
   "cell_type": "markdown",
   "metadata": {},
   "source": [
    "#### Parte 2:"
   ]
  },
  {
   "cell_type": "code",
   "execution_count": 19,
   "metadata": {},
   "outputs": [
    {
     "data": {
      "text/plain": [
       "(2.10728235890519, -0.15793066040365045)"
      ]
     },
     "execution_count": 19,
     "metadata": {},
     "output_type": "execute_result"
    }
   ],
   "source": [
    "solverCubicComplexRoot(9.2, -2.1, niter=100, printJacobianDeterminant=False)"
   ]
  },
  {
   "cell_type": "markdown",
   "metadata": {},
   "source": [
    "#### Parte 3:"
   ]
  },
  {
   "cell_type": "code",
   "execution_count": 20,
   "metadata": {},
   "outputs": [
    {
     "name": "stdout",
     "output_type": "stream",
     "text": [
      "144.00720009000008\n",
      "178.01290576296245\n"
     ]
    },
    {
     "data": {
      "text/plain": [
       "(2.10716799360806, -0.1578549386755075)"
      ]
     },
     "execution_count": 20,
     "metadata": {},
     "output_type": "execute_result"
    }
   ],
   "source": [
    "solverCubicComplexRoot(9.2, -2.1, niter=2, printJacobianDeterminant=True)"
   ]
  },
  {
   "cell_type": "code",
   "execution_count": null,
   "metadata": {},
   "outputs": [],
   "source": []
  }
 ],
 "metadata": {
  "kernelspec": {
   "display_name": "Python 3",
   "language": "python",
   "name": "python3"
  },
  "language_info": {
   "codemirror_mode": {
    "name": "ipython",
    "version": 3
   },
   "file_extension": ".py",
   "mimetype": "text/x-python",
   "name": "python",
   "nbconvert_exporter": "python",
   "pygments_lexer": "ipython3",
   "version": "3.7.3"
  }
 },
 "nbformat": 4,
 "nbformat_minor": 5
}
