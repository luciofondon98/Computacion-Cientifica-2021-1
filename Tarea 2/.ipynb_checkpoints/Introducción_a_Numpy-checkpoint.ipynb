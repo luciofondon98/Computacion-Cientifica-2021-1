{
 "cells": [
  {
   "cell_type": "markdown",
   "metadata": {
    "id": "qLMYwvVVCrmX"
   },
   "source": [
    "## ¿Qué es NumPy?\n",
    "* NumPy es un paquete de Python que provee un nuevo tipo de arreglos (otro tipo de $\\textit{listas}$) que tienen la capacidad de almacenar y operar matemáticamente de manera eficiente\n",
    "* Generalmente usado para cálculos científicos\n",
    "* Arreglos de Numpy mucho más rápido que utilizar las listas nativas de Python"
   ]
  },
  {
   "cell_type": "markdown",
   "metadata": {
    "id": "fL54jXT5CrmZ"
   },
   "source": [
    "## Importando NumPy "
   ]
  },
  {
   "cell_type": "markdown",
   "metadata": {
    "id": "LGKr3ppYCrma"
   },
   "source": [
    "* Para importar NumPy simplemente hacemos:"
   ]
  },
  {
   "cell_type": "code",
   "execution_count": 5,
   "metadata": {
    "id": "6E2MsbhbCrmb"
   },
   "outputs": [],
   "source": [
    "import numpy as np"
   ]
  },
  {
   "cell_type": "markdown",
   "metadata": {
    "id": "IVL3WfVCCrme"
   },
   "source": [
    "* Jupyter Notebook nos ofrece la posibilidad de ver la documentación del paquete de la siguiente forma"
   ]
  },
  {
   "cell_type": "code",
   "execution_count": 6,
   "metadata": {
    "id": "azeYELguCrmf"
   },
   "outputs": [],
   "source": [
    "#np?"
   ]
  },
  {
   "cell_type": "markdown",
   "metadata": {
    "id": "mp9UO-ySCrmi"
   },
   "source": [
    "## Creando arreglos de NumPy\n",
    "\n",
    "\n"
   ]
  },
  {
   "cell_type": "markdown",
   "metadata": {
    "id": "SU-KmnUlCrmj"
   },
   "source": [
    "* Podemos crear arreglos de NumPy usando el método ${array}$ pasando como parámetro una lista nativa de Python"
   ]
  },
  {
   "cell_type": "code",
   "execution_count": 7,
   "metadata": {
    "colab": {
     "base_uri": "https://localhost:8080/",
     "height": 35
    },
    "id": "YNfhJ0P2Crmj",
    "outputId": "e397e82a-b7a4-480d-90f3-019d68e704a0",
    "scrolled": true
   },
   "outputs": [
    {
     "data": {
      "text/plain": [
       "array([1, 2, 3, 4, 5])"
      ]
     },
     "execution_count": 7,
     "metadata": {},
     "output_type": "execute_result"
    }
   ],
   "source": [
    "np.array([1,2,3,4,5])"
   ]
  },
  {
   "cell_type": "markdown",
   "metadata": {
    "id": "jHxNro7HCrmm"
   },
   "source": [
    "* No así como las listas nativas de Python, los arreglos de NumPy exigen que todos sus elementos sean del mismo tipo "
   ]
  },
  {
   "cell_type": "code",
   "execution_count": 8,
   "metadata": {
    "colab": {
     "base_uri": "https://localhost:8080/",
     "height": 35
    },
    "id": "szpz_DD4Crmn",
    "outputId": "7fb7df79-c728-4dc5-853d-bd7175b6a05e"
   },
   "outputs": [
    {
     "data": {
      "text/plain": [
       "array([1. , 2. , 3.2, 4. ])"
      ]
     },
     "execution_count": 8,
     "metadata": {},
     "output_type": "execute_result"
    }
   ],
   "source": [
    "np.array([1,2,3.2,4]) #convierte todos los enteros en float ya que 3.2 es float y los demas int"
   ]
  },
  {
   "cell_type": "markdown",
   "metadata": {
    "id": "-v-JfhwjCrmp"
   },
   "source": [
    "* También podemos crear arreglos de NumPy con métodos ya integrados en el paquete"
   ]
  },
  {
   "cell_type": "code",
   "execution_count": 9,
   "metadata": {
    "colab": {
     "base_uri": "https://localhost:8080/",
     "height": 35
    },
    "id": "cy9lSalBCrmp",
    "outputId": "1582c17c-2b28-4fbd-a602-b5352eca08f5"
   },
   "outputs": [
    {
     "data": {
      "text/plain": [
       "array([0, 0, 0, 0, 0])"
      ]
     },
     "execution_count": 9,
     "metadata": {},
     "output_type": "execute_result"
    }
   ],
   "source": [
    "np.zeros(5, dtype=int) #crea un arreglo numpy de 10 ceros de tipo int"
   ]
  },
  {
   "cell_type": "code",
   "execution_count": 10,
   "metadata": {
    "colab": {
     "base_uri": "https://localhost:8080/",
     "height": 53
    },
    "id": "wO353A7tCrms",
    "outputId": "d8d92f21-3342-4c46-8337-515bcb71aae3"
   },
   "outputs": [
    {
     "data": {
      "text/plain": [
       "array([[1, 1, 1],\n",
       "       [1, 1, 1]])"
      ]
     },
     "execution_count": 10,
     "metadata": {},
     "output_type": "execute_result"
    }
   ],
   "source": [
    "np.ones([2,3], dtype=int) #crea un arreglo multidimensional numpy \n",
    "                          #de 2 filas y 3 columnas de unos"
   ]
  },
  {
   "cell_type": "code",
   "execution_count": 11,
   "metadata": {
    "colab": {
     "base_uri": "https://localhost:8080/",
     "height": 35
    },
    "id": "mM2MXRKvCrmv",
    "outputId": "397fdce6-5c58-4f21-f09c-68cd63f91fee",
    "scrolled": true
   },
   "outputs": [
    {
     "data": {
      "text/plain": [
       "array([0, 2, 4, 6, 8])"
      ]
     },
     "execution_count": 11,
     "metadata": {},
     "output_type": "execute_result"
    }
   ],
   "source": [
    "np.arange(0,10,2) #crea un arreglo numpy del 0 al 10 (sin incluir el 10) de 2 en 2"
   ]
  },
  {
   "cell_type": "code",
   "execution_count": 12,
   "metadata": {
    "colab": {
     "base_uri": "https://localhost:8080/",
     "height": 35
    },
    "id": "eaDKNLVVCrmx",
    "outputId": "7b95bb45-96fa-480f-cfaa-68937f6393a0"
   },
   "outputs": [
    {
     "data": {
      "text/plain": [
       "array([0. , 0.2, 0.4, 0.6, 0.8, 1. ])"
      ]
     },
     "execution_count": 12,
     "metadata": {},
     "output_type": "execute_result"
    }
   ],
   "source": [
    "np.linspace(0,1,6) #crea un arreglo numpy con cinco valores espaciados uniformemente entre 0 y 1 inclusive"
   ]
  },
  {
   "cell_type": "code",
   "execution_count": 13,
   "metadata": {
    "colab": {
     "base_uri": "https://localhost:8080/",
     "height": 53
    },
    "id": "mblTss7nCrmz",
    "outputId": "ac5fe7e8-0897-49a1-9015-9b5b91db5899"
   },
   "outputs": [
    {
     "data": {
      "text/plain": [
       "array([[8, 3, 4],\n",
       "       [1, 0, 3]])"
      ]
     },
     "execution_count": 13,
     "metadata": {},
     "output_type": "execute_result"
    }
   ],
   "source": [
    "np.random.randint(0, 10, (2, 3)) #crea un arreglo multidimensional numpy de 2 filas y 3 columnas de numreos enteros al azar"
   ]
  },
  {
   "cell_type": "markdown",
   "metadata": {
    "id": "SW6FBiZnCrm2"
   },
   "source": [
    "## Accediendo a elementos individuales"
   ]
  },
  {
   "cell_type": "markdown",
   "metadata": {
    "id": "4neeLkOSCrm2"
   },
   "source": [
    "* Similar a las listas de Python, utilizando el índice del elemento al que queramos acceder entre corchetes"
   ]
  },
  {
   "cell_type": "code",
   "execution_count": 14,
   "metadata": {
    "id": "WyCyZLDkCrm2"
   },
   "outputs": [],
   "source": [
    "a = np.array([2,6,1,3,8,7])"
   ]
  },
  {
   "cell_type": "code",
   "execution_count": 15,
   "metadata": {
    "colab": {
     "base_uri": "https://localhost:8080/",
     "height": 35
    },
    "id": "iKbhQ0XzCrm7",
    "outputId": "6bab8759-dc21-4abb-a20c-6cd62b114a54"
   },
   "outputs": [
    {
     "data": {
      "text/plain": [
       "2"
      ]
     },
     "execution_count": 15,
     "metadata": {},
     "output_type": "execute_result"
    }
   ],
   "source": [
    "a[0]"
   ]
  },
  {
   "cell_type": "code",
   "execution_count": 16,
   "metadata": {
    "colab": {
     "base_uri": "https://localhost:8080/",
     "height": 35
    },
    "id": "cH-5QbdtCrm9",
    "outputId": "fe1b3d5a-6a34-4efb-f001-f6c9860b2233"
   },
   "outputs": [
    {
     "data": {
      "text/plain": [
       "3"
      ]
     },
     "execution_count": 16,
     "metadata": {},
     "output_type": "execute_result"
    }
   ],
   "source": [
    "a[3]"
   ]
  },
  {
   "cell_type": "code",
   "execution_count": 17,
   "metadata": {
    "colab": {
     "base_uri": "https://localhost:8080/",
     "height": 35
    },
    "id": "Ybd0_cH7Crm_",
    "outputId": "413bc0c3-2269-4bcc-f790-6acede8fee2c"
   },
   "outputs": [
    {
     "data": {
      "text/plain": [
       "7"
      ]
     },
     "execution_count": 17,
     "metadata": {},
     "output_type": "execute_result"
    }
   ],
   "source": [
    "a[-1] #accediendo desde el final"
   ]
  },
  {
   "cell_type": "markdown",
   "metadata": {
    "id": "4fyFhLEKCrnC"
   },
   "source": [
    "* Para arreglos de dos dimensiones (matrices) se accede a los elementos usando el índice como una tupla"
   ]
  },
  {
   "cell_type": "code",
   "execution_count": 18,
   "metadata": {
    "colab": {
     "base_uri": "https://localhost:8080/",
     "height": 71
    },
    "id": "K2JwMDDZCrnD",
    "outputId": "e31b8b87-bfa0-4907-85c8-c92f2631376a"
   },
   "outputs": [
    {
     "data": {
      "text/plain": [
       "array([[2, 6],\n",
       "       [1, 3],\n",
       "       [8, 7]])"
      ]
     },
     "execution_count": 18,
     "metadata": {},
     "output_type": "execute_result"
    }
   ],
   "source": [
    "b = np.reshape(a,(3,2)) #una forma de crear un array 2d es usando np.reshape en un arreglo de 1d\n",
    "b"
   ]
  },
  {
   "cell_type": "code",
   "execution_count": 19,
   "metadata": {
    "colab": {
     "base_uri": "https://localhost:8080/",
     "height": 35
    },
    "id": "f4QlZreVCrnG",
    "outputId": "70f4639c-7646-4c67-d0fb-340539119338"
   },
   "outputs": [
    {
     "data": {
      "text/plain": [
       "2"
      ]
     },
     "execution_count": 19,
     "metadata": {},
     "output_type": "execute_result"
    }
   ],
   "source": [
    "b[0,0]"
   ]
  },
  {
   "cell_type": "code",
   "execution_count": 20,
   "metadata": {
    "colab": {
     "base_uri": "https://localhost:8080/",
     "height": 35
    },
    "id": "ISSe8cFpCrnI",
    "outputId": "da543f5f-7e6a-4324-85fa-fade6981f25b"
   },
   "outputs": [
    {
     "data": {
      "text/plain": [
       "3"
      ]
     },
     "execution_count": 20,
     "metadata": {},
     "output_type": "execute_result"
    }
   ],
   "source": [
    "b[1,1]"
   ]
  },
  {
   "cell_type": "code",
   "execution_count": 21,
   "metadata": {
    "colab": {
     "base_uri": "https://localhost:8080/",
     "height": 35
    },
    "id": "a2le12vmCrnL",
    "outputId": "1f876f63-8e51-4dac-8365-f7f40453faf3"
   },
   "outputs": [
    {
     "data": {
      "text/plain": [
       "7"
      ]
     },
     "execution_count": 21,
     "metadata": {},
     "output_type": "execute_result"
    }
   ],
   "source": [
    "b[-1,-1]"
   ]
  },
  {
   "cell_type": "markdown",
   "metadata": {
    "id": "CAkPRGFOCrnO"
   },
   "source": [
    "## Accediendo a sub-arreglos"
   ]
  },
  {
   "cell_type": "markdown",
   "metadata": {
    "id": "CdyaK-NNCrnO"
   },
   "source": [
    "* Podemos acceder a un sub-arreglo de un arreglo dado mediante la $\\textit{slice}$ $\\textit{notation}$  (notación de corte), denotada por el carácter ($\\textbf{:}$)\n",
    "* La sintaxis está dada por: $x[inicio:final:salto]$"
   ]
  },
  {
   "cell_type": "code",
   "execution_count": 22,
   "metadata": {
    "colab": {
     "base_uri": "https://localhost:8080/",
     "height": 53
    },
    "id": "KLPE4zs_CrnO",
    "outputId": "1efea7dd-4b35-4128-b5e0-3ccea495e372",
    "scrolled": true
   },
   "outputs": [
    {
     "data": {
      "text/plain": [
       "array([ 0,  1,  2,  3,  4,  5,  6,  7,  8,  9, 10, 11, 12, 13, 14, 15, 16,\n",
       "       17, 18, 19])"
      ]
     },
     "execution_count": 22,
     "metadata": {},
     "output_type": "execute_result"
    }
   ],
   "source": [
    "x = np.arange(20)\n",
    "x"
   ]
  },
  {
   "cell_type": "code",
   "execution_count": 23,
   "metadata": {
    "colab": {
     "base_uri": "https://localhost:8080/",
     "height": 35
    },
    "id": "o9u-0sr6CrnQ",
    "outputId": "0be78940-caf3-4a3b-b735-bcbea2ed2e86"
   },
   "outputs": [
    {
     "data": {
      "text/plain": [
       "array([0, 1, 2, 3, 4])"
      ]
     },
     "execution_count": 23,
     "metadata": {},
     "output_type": "execute_result"
    }
   ],
   "source": [
    "x[:5] #primeros 5 elementos"
   ]
  },
  {
   "cell_type": "code",
   "execution_count": 24,
   "metadata": {
    "colab": {
     "base_uri": "https://localhost:8080/",
     "height": 35
    },
    "id": "Pp_Pw2g7CrnS",
    "outputId": "23c31123-136f-495e-92ab-15bf45224e6d"
   },
   "outputs": [
    {
     "data": {
      "text/plain": [
       "array([ 5,  6,  7,  8,  9, 10, 11, 12, 13, 14, 15, 16, 17, 18, 19])"
      ]
     },
     "execution_count": 24,
     "metadata": {},
     "output_type": "execute_result"
    }
   ],
   "source": [
    "x[5:] #elementos del índice 5 en adelante"
   ]
  },
  {
   "cell_type": "code",
   "execution_count": 25,
   "metadata": {
    "colab": {
     "base_uri": "https://localhost:8080/",
     "height": 35
    },
    "id": "GNSkfnPqCrnU",
    "outputId": "0ac7d50e-145a-4786-a57d-05c4e37f715c"
   },
   "outputs": [
    {
     "data": {
      "text/plain": [
       "array([3, 4, 5])"
      ]
     },
     "execution_count": 25,
     "metadata": {},
     "output_type": "execute_result"
    }
   ],
   "source": [
    "x[3:6] #sub-arreglo del índice 3 al 6, (sin incluir el 6)"
   ]
  },
  {
   "cell_type": "code",
   "execution_count": 26,
   "metadata": {
    "colab": {
     "base_uri": "https://localhost:8080/",
     "height": 53
    },
    "id": "yQhsn3-DCrnW",
    "outputId": "61a1c59a-bf70-4bed-86e5-b3b19555bd81"
   },
   "outputs": [
    {
     "data": {
      "text/plain": [
       "array([19, 18, 17, 16, 15, 14, 13, 12, 11, 10,  9,  8,  7,  6,  5,  4,  3,\n",
       "        2,  1,  0])"
      ]
     },
     "execution_count": 26,
     "metadata": {},
     "output_type": "execute_result"
    }
   ],
   "source": [
    "x[::-1] #arreglo inverso"
   ]
  },
  {
   "cell_type": "code",
   "execution_count": 27,
   "metadata": {
    "colab": {
     "base_uri": "https://localhost:8080/",
     "height": 35
    },
    "id": "0PGiuWqOCrnY",
    "outputId": "4eb1ea4d-bd64-4dba-f6db-08123462e5b2"
   },
   "outputs": [
    {
     "data": {
      "text/plain": [
       "array([ 0,  2,  4,  6,  8, 10, 12, 14, 16, 18])"
      ]
     },
     "execution_count": 27,
     "metadata": {},
     "output_type": "execute_result"
    }
   ],
   "source": [
    "x[::2] #de 2 en 2 partiendo de 0"
   ]
  },
  {
   "cell_type": "markdown",
   "metadata": {
    "id": "0gWLEO4uCrnb"
   },
   "source": [
    "* Para arreglos 2D es similar; debemos operar sobre las columnas y filas, utilizando la notación slice separada por comas"
   ]
  },
  {
   "cell_type": "code",
   "execution_count": 28,
   "metadata": {
    "colab": {
     "base_uri": "https://localhost:8080/",
     "height": 89
    },
    "id": "nc9yxVdMCrnc",
    "outputId": "545c4aee-ca27-4d61-c2ab-79a62aaa888d"
   },
   "outputs": [
    {
     "data": {
      "text/plain": [
       "array([[ 0,  1,  2,  3,  4],\n",
       "       [ 5,  6,  7,  8,  9],\n",
       "       [10, 11, 12, 13, 14],\n",
       "       [15, 16, 17, 18, 19]])"
      ]
     },
     "execution_count": 28,
     "metadata": {},
     "output_type": "execute_result"
    }
   ],
   "source": [
    "y = np.reshape(np.arange(20),(4,5))\n",
    "y"
   ]
  },
  {
   "cell_type": "code",
   "execution_count": 29,
   "metadata": {
    "colab": {
     "base_uri": "https://localhost:8080/",
     "height": 35
    },
    "id": "5fu16VFvCrne",
    "outputId": "77c21f46-9433-4e38-a676-1a165b83bf1b"
   },
   "outputs": [
    {
     "data": {
      "text/plain": [
       "array([[0, 1, 2, 3, 4]])"
      ]
     },
     "execution_count": 29,
     "metadata": {},
     "output_type": "execute_result"
    }
   ],
   "source": [
    "y[:1,:] #obteniendo la primera fila"
   ]
  },
  {
   "cell_type": "code",
   "execution_count": 30,
   "metadata": {
    "colab": {
     "base_uri": "https://localhost:8080/",
     "height": 53
    },
    "id": "sYnLmbB4Crng",
    "outputId": "1a4e1b9d-5fa9-43d1-b865-6a217e37095f"
   },
   "outputs": [
    {
     "data": {
      "text/plain": [
       "array([[0, 1],\n",
       "       [5, 6]])"
      ]
     },
     "execution_count": 30,
     "metadata": {},
     "output_type": "execute_result"
    }
   ],
   "source": [
    "y[:2,:2] #obteniendo la primera y segunda fila hasta la segunda columna"
   ]
  },
  {
   "cell_type": "code",
   "execution_count": 31,
   "metadata": {
    "colab": {
     "base_uri": "https://localhost:8080/",
     "height": 89
    },
    "id": "6fB1W8dLCrni",
    "outputId": "f61fb37c-e8c4-43dd-c491-b913764bbd39"
   },
   "outputs": [
    {
     "data": {
      "text/plain": [
       "array([[19, 18, 17, 16, 15],\n",
       "       [14, 13, 12, 11, 10],\n",
       "       [ 9,  8,  7,  6,  5],\n",
       "       [ 4,  3,  2,  1,  0]])"
      ]
     },
     "execution_count": 31,
     "metadata": {},
     "output_type": "execute_result"
    }
   ],
   "source": [
    "y[::-1,::-1] #invierte la matriz"
   ]
  },
  {
   "cell_type": "markdown",
   "metadata": {
    "id": "FH2USC-cCrnk"
   },
   "source": [
    "## Concatenación y división de arreglos"
   ]
  },
  {
   "cell_type": "markdown",
   "metadata": {
    "id": "3YjtnoRqCrnk"
   },
   "source": [
    "* NumPy ofrece la posibilidad de unir arreglos y también de dividirlos"
   ]
  },
  {
   "cell_type": "code",
   "execution_count": 32,
   "metadata": {
    "colab": {
     "base_uri": "https://localhost:8080/",
     "height": 35
    },
    "id": "3MlY02vsCrnk",
    "outputId": "64fe0aae-2991-4496-94f4-1308051eee02"
   },
   "outputs": [
    {
     "data": {
      "text/plain": [
       "array([1, 2, 3, 3, 2, 1])"
      ]
     },
     "execution_count": 32,
     "metadata": {},
     "output_type": "execute_result"
    }
   ],
   "source": [
    "x = np.array([1, 2, 3])\n",
    "y = np.array([3, 2, 1])\n",
    "np.concatenate([x,y])"
   ]
  },
  {
   "cell_type": "markdown",
   "metadata": {
    "id": "qbFbshkYCrnn"
   },
   "source": [
    "* Podemos concatenar más de dos arreglos al mismo tiempo"
   ]
  },
  {
   "cell_type": "code",
   "execution_count": 33,
   "metadata": {
    "colab": {
     "base_uri": "https://localhost:8080/",
     "height": 35
    },
    "id": "3lXiSNnGCrno",
    "outputId": "75fba6f9-d373-4b32-d683-2e71c699696a"
   },
   "outputs": [
    {
     "data": {
      "text/plain": [
       "array([1, 2, 3, 3, 2, 1, 0, 1, 2, 3, 4, 5, 6, 7, 8, 9])"
      ]
     },
     "execution_count": 33,
     "metadata": {},
     "output_type": "execute_result"
    }
   ],
   "source": [
    "z = np.arange(10)\n",
    "np.concatenate([x,y,z])"
   ]
  },
  {
   "cell_type": "markdown",
   "metadata": {
    "id": "gMUOSDx2Crnp"
   },
   "source": [
    "* También podemos usar $np.concatenate$ en arreglos 2D"
   ]
  },
  {
   "cell_type": "code",
   "execution_count": 51,
   "metadata": {
    "colab": {
     "base_uri": "https://localhost:8080/",
     "height": 89
    },
    "id": "wqTXXjTKCrnq",
    "outputId": "65007cfc-e1d0-4c39-fd9e-2d810a3dd879",
    "scrolled": true
   },
   "outputs": [
    {
     "data": {
      "text/plain": [
       "array([[1, 2, 3],\n",
       "       [4, 5, 6],\n",
       "       [1, 2, 3],\n",
       "       [4, 5, 6]])"
      ]
     },
     "execution_count": 51,
     "metadata": {},
     "output_type": "execute_result"
    }
   ],
   "source": [
    "x = np.array([[1,2,3],\n",
    "             [4,5,6]])\n",
    "\n",
    "np.concatenate([x,x])"
   ]
  },
  {
   "cell_type": "markdown",
   "metadata": {
    "id": "4oa6Ej9dCrns"
   },
   "source": [
    "* Además, podemos dividir arreglos, usando una lista de índices donde indicamos los puntos de división"
   ]
  },
  {
   "cell_type": "code",
   "execution_count": 35,
   "metadata": {
    "colab": {
     "base_uri": "https://localhost:8080/",
     "height": 35
    },
    "id": "Ha-2A-Y6Crns",
    "outputId": "d6e26a2d-ed9d-4611-a31e-6fdbd8b8acf9",
    "scrolled": true
   },
   "outputs": [
    {
     "data": {
      "text/plain": [
       "[array([0, 1, 2]), array([3, 4, 5, 6]), array([7, 8, 9])]"
      ]
     },
     "execution_count": 35,
     "metadata": {},
     "output_type": "execute_result"
    }
   ],
   "source": [
    "x = np.arange(10)\n",
    "np.split(x,(3,7)) #entrega una lista de arreglos, en donde el 1er elemento es del indice 0 al 2, el 2do del 3 al 6 y el 3ero del 7 al 9"
   ]
  },
  {
   "cell_type": "markdown",
   "metadata": {
    "id": "aAB5aGIcCrnu"
   },
   "source": [
    "## UFuncs de NumPy"
   ]
  },
  {
   "cell_type": "markdown",
   "metadata": {
    "id": "0PKhvjutCrnu"
   },
   "source": [
    "* NumPy también provee operaciones sobre arreglos mucho más eficientes que las de las listas de Python, llamadas $\\textbf{UFuncs}$ (Universal Functions)\n",
    "* Sintaxis muy simple e intuitiva de usar"
   ]
  },
  {
   "cell_type": "code",
   "execution_count": 36,
   "metadata": {
    "colab": {
     "base_uri": "https://localhost:8080/",
     "height": 125
    },
    "id": "vMUeyY2PCrnv",
    "outputId": "2f91099a-6653-4eb9-ee89-ff59d03626a2"
   },
   "outputs": [
    {
     "name": "stdout",
     "output_type": "stream",
     "text": [
      "x = [0 1 2 3 4 5 6 7 8 9]\n",
      "x + 5 = [ 5  6  7  8  9 10 11 12 13 14]\n",
      "x - 5 = [-5 -4 -3 -2 -1  0  1  2  3  4]\n",
      "x * 2 = [ 0  2  4  6  8 10 12 14 16 18]\n",
      "x / 2 = [0.  0.5 1.  1.5 2.  2.5 3.  3.5 4.  4.5]\n",
      "x // 2 = [0 0 1 1 2 2 3 3 4 4]\n"
     ]
    }
   ],
   "source": [
    "x = np.arange(10)\n",
    "print(\"x =\", x)\n",
    "print(\"x + 5 =\", x + 5)\n",
    "print(\"x - 5 =\", x - 5)\n",
    "print(\"x * 2 =\", x * 2)\n",
    "print(\"x / 2 =\", x / 2)\n",
    "print(\"x // 2 =\", x // 2) #divisón función piso"
   ]
  },
  {
   "cell_type": "markdown",
   "metadata": {
    "id": "y1fFWKj1Crnx"
   },
   "source": [
    "* También podemos utilizar éstas funciones como métodos de la librería"
   ]
  },
  {
   "cell_type": "code",
   "execution_count": 37,
   "metadata": {
    "colab": {
     "base_uri": "https://localhost:8080/",
     "height": 107
    },
    "id": "SPVUPIlxCrnx",
    "outputId": "b42200e6-6ff3-4a89-f0f6-5bb793a02528"
   },
   "outputs": [
    {
     "name": "stdout",
     "output_type": "stream",
     "text": [
      "x + 5 = [ 5  6  7  8  9 10 11 12 13 14]\n",
      "x - 5 = [-5 -4 -3 -2 -1  0  1  2  3  4]\n",
      "x * 2 = [ 0  2  4  6  8 10 12 14 16 18]\n",
      "x / 2 = [0.  0.5 1.  1.5 2.  2.5 3.  3.5 4.  4.5]\n",
      "x // 5 = [0 0 1 1 2 2 3 3 4 4]\n"
     ]
    }
   ],
   "source": [
    "print(\"x + 5 =\", np.add(x,5))\n",
    "print(\"x - 5 =\", np.subtract(x,5))\n",
    "print(\"x * 2 =\", np.multiply(x,2))\n",
    "print(\"x / 2 =\", np.divide(x,2))\n",
    "print(\"x // 5 =\", np.floor_divide(x,2)) #divisón función piso"
   ]
  },
  {
   "cell_type": "markdown",
   "metadata": {
    "id": "joVpegwZT0cx"
   },
   "source": [
    "## Agregaciones\n"
   ]
  },
  {
   "cell_type": "code",
   "execution_count": 38,
   "metadata": {
    "colab": {
     "base_uri": "https://localhost:8080/",
     "height": 143
    },
    "id": "vD4Wb8ivbQd1",
    "outputId": "de888841-320c-462a-9599-a0d608613b33"
   },
   "outputs": [
    {
     "name": "stdout",
     "output_type": "stream",
     "text": [
      "x: [2 6 1 9 9 5 8 6 3 2]\n",
      "Suma de todos los elementos: 51\n",
      "Promedio: 5.1\n",
      "Desviación estándar: 2.8442925306655784\n",
      "Varianza: 8.09\n",
      "Menor elemento: 1 y su índice: 2\n",
      "Mayor elemento: 9 y su índice: 3\n"
     ]
    }
   ],
   "source": [
    "x = np.random.randint(0,10,10)\n",
    "print(\"x:\", x)\n",
    "print(\"Suma de todos los elementos:\", np.sum(x))\n",
    "print(\"Promedio:\", np.mean(x))\n",
    "print(\"Desviación estándar:\", np.std(x))\n",
    "print(\"Varianza:\", np.var(x))\n",
    "print(\"Menor elemento: %.d y su índice: %.d\" % (np.min(x),(np.argmin(x))))\n",
    "print(\"Mayor elemento: %.d y su índice: %.d\" % (np.max(x),(np.argmax(x))))"
   ]
  },
  {
   "cell_type": "markdown",
   "metadata": {
    "id": "e2S9Q1ed6f89"
   },
   "source": [
    "## Enmascaramiento Booleano\n"
   ]
  },
  {
   "cell_type": "markdown",
   "metadata": {
    "id": "QCsSRI116f89"
   },
   "source": [
    "* Una de las características más útiles y usadas de NumPy es el enmascaramiento booleano\n",
    "* Nos sirve cuando queremos filtrar datos de un arreglo basados en simples comparaciones con operadores booleanos o algún criterio\n",
    "* La sintaxis viene dada por: $x$[alguna(s) comparación(es) booleana(s)]\n"
   ]
  },
  {
   "cell_type": "code",
   "execution_count": 39,
   "metadata": {
    "colab": {
     "base_uri": "https://localhost:8080/",
     "height": 125
    },
    "id": "DcOKCclr6f8-",
    "outputId": "670fd541-b156-4882-8b91-3bbfdf595941"
   },
   "outputs": [
    {
     "name": "stdout",
     "output_type": "stream",
     "text": [
      "x: [ 1  2  3  4  5  6  7  8  9 10 11 12 13 14 15 16 17 18 19 20]\n",
      "Todos los elementos mayores a 10: [11 12 13 14 15 16 17 18 19 20]\n",
      "Todos los elementos pares: [ 2  4  6  8 10 12 14 16 18 20]\n",
      "Todos los elementos negativos []\n",
      "Todos los elementos mayores a 10 o múltiplos de 4: [ 4  8 11 12 13 14 15 16 17 18 19 20]\n",
      "Todos los elementos impares y múltiplos de 3: [ 3  9 15]\n"
     ]
    }
   ],
   "source": [
    "x = np.arange(1,21)\n",
    "print(\"x:\", x)\n",
    "print(\"Todos los elementos mayores a 10:\", x[x > 10])\n",
    "print(\"Todos los elementos pares:\", x[x % 2 == 0])\n",
    "print(\"Todos los elementos negativos\", x[x < 0])\n",
    "print(\"Todos los elementos mayores a 10 o múltiplos de 4:\", x[(x > 10) | (x % 4 == 0)])\n",
    "print(\"Todos los elementos impares y múltiplos de 3:\", x[~(x % 2 == 0) & (x % 3 == 0)])"
   ]
  },
  {
   "cell_type": "markdown",
   "metadata": {
    "id": "W8Cux_0qpAyu"
   },
   "source": [
    "## Arreglos Estructurados"
   ]
  },
  {
   "cell_type": "markdown",
   "metadata": {
    "id": "yeAzJmtJvsnu"
   },
   "source": [
    "* Generalmente, nuestros datos pueden estar bien representados usando arreglos con el mismo tipo de valores, pero no siempre es el caso\n",
    "\n",
    "* NumPy ofrece lo que son llamados arreglos estructurados, los cuáles son un tipo de arreglo el cual provee almacenamiento y extracción eficiente de datos que no necesariamente tienen que ser del mismo tipo"
   ]
  },
  {
   "cell_type": "code",
   "execution_count": 40,
   "metadata": {
    "colab": {
     "base_uri": "https://localhost:8080/",
     "height": 89
    },
    "id": "U2VXFJ1kz1bH",
    "outputId": "7ba75aae-e062-4316-8e87-5b26c7b4e710"
   },
   "outputs": [
    {
     "name": "stdout",
     "output_type": "stream",
     "text": [
      "[('nombre', '<U10'), ('carrera', '<U30'), ('promedio', '<i4')]\n",
      "[('Pepe', 'Ingeniería Civil Informática', 59)\n",
      " ('Juan', 'Ingeniería Civil Eléctrica', 74)\n",
      " ('María', 'Ingeniería Civil', 61)]\n"
     ]
    }
   ],
   "source": [
    "#Creamos los arreglos como listas de Python con los datos que queramos almacenar\n",
    "nombres = ['Pepe','Juan','María']\n",
    "carreras = ['Ingeniería Civil Informática','Ingeniería Civil Eléctrica','Ingeniería Civil']\n",
    "promedios = [59,74,61]\n",
    "\n",
    "#Usando np.zeros creamos un arreglo con 3 ceros, excepto que esta vez especificamos el nombre de los \"índices\" que queremos para luego acceder a ellos\n",
    "#y el formato que queremos para los datos que almacenaremos\n",
    "#en este caso, U10 son strings de largo no más de 10, U30 de largo no más de 30 y i4 enteros de 4 bytes\n",
    "datos = np.zeros(3, dtype={'names':('nombre', 'carrera', 'promedio'),'formats':('U10', 'U30', 'i4')})\n",
    "print(datos.dtype) \n",
    "\n",
    "#Ahora solo queda asignar a nuestro nuevo arreglo estructural las listas creadas anteriormente\n",
    "datos['nombre'] = nombres\n",
    "datos['carrera'] = carreras\n",
    "datos['promedio'] = promedios\n",
    "print(datos)"
   ]
  },
  {
   "cell_type": "markdown",
   "metadata": {
    "id": "PR0URvla5HER"
   },
   "source": [
    "* Podemos acceder a los datos almacenados usando una sintaxis similar a la de diccionarios en Python o usando índices enteros"
   ]
  },
  {
   "cell_type": "code",
   "execution_count": 41,
   "metadata": {
    "colab": {
     "base_uri": "https://localhost:8080/",
     "height": 71
    },
    "id": "mVEkgIhq5GUg",
    "outputId": "115b60ae-df0f-405d-b990-f3a14cd3cee5"
   },
   "outputs": [
    {
     "name": "stdout",
     "output_type": "stream",
     "text": [
      "Todos los nombres: ['Pepe' 'Juan' 'María']\n",
      "Primera fila con todos los datos: ('Pepe', 'Ingeniería Civil Informática', 59)\n",
      "Promedio de la persona en la segunda fila: 74\n"
     ]
    }
   ],
   "source": [
    "print(\"Todos los nombres:\", datos['nombre'])\n",
    "print(\"Primera fila con todos los datos:\", datos[0])\n",
    "print(\"Promedio de la persona en la segunda fila:\", datos[1]['promedio'])"
   ]
  },
  {
   "cell_type": "markdown",
   "metadata": {
    "id": "_YDXBkZE6gVx"
   },
   "source": [
    "* Además, podemos usar enmascaramiento booleano para poder filtrar datos en nuestro arreglo"
   ]
  },
  {
   "cell_type": "code",
   "execution_count": 42,
   "metadata": {
    "colab": {
     "base_uri": "https://localhost:8080/",
     "height": 53
    },
    "id": "603ijgSe6xIT",
    "outputId": "4b29d3db-b455-4071-bdb1-4b33d6816c88"
   },
   "outputs": [
    {
     "name": "stdout",
     "output_type": "stream",
     "text": [
      "Personas con promedio mayor a 60: ['Juan' 'María']\n",
      "Todos los datos de los que estudian Ingeniería Civil: [('María', 'Ingeniería Civil', 61)]\n"
     ]
    }
   ],
   "source": [
    "print(\"Personas con promedio mayor a 60:\", datos['nombre'][datos['promedio'] > 60])\n",
    "print(\"Todos los datos de los que estudian Ingeniería Civil:\", datos[datos['carrera'] == 'Ingeniería Civil'])"
   ]
  }
 ],
 "metadata": {
  "colab": {
   "collapsed_sections": [],
   "name": "Introducción_a_Numpy.ipynb",
   "provenance": []
  },
  "kernelspec": {
   "display_name": "Python 3",
   "language": "python",
   "name": "python3"
  },
  "language_info": {
   "codemirror_mode": {
    "name": "ipython",
    "version": 3
   },
   "file_extension": ".py",
   "mimetype": "text/x-python",
   "name": "python",
   "nbconvert_exporter": "python",
   "pygments_lexer": "ipython3",
   "version": "3.7.3"
  }
 },
 "nbformat": 4,
 "nbformat_minor": 1
}
